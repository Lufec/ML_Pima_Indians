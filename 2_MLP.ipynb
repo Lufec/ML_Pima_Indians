{
  "nbformat": 4,
  "nbformat_minor": 0,
  "metadata": {
    "colab": {
      "name": "2- MLP",
      "provenance": [],
      "collapsed_sections": [],
      "toc_visible": true,
      "include_colab_link": true
    },
    "kernelspec": {
      "name": "python3",
      "display_name": "Python 3"
    }
  },
  "cells": [
    {
      "cell_type": "markdown",
      "metadata": {
        "id": "view-in-github",
        "colab_type": "text"
      },
      "source": [
        "<a href=\"https://colab.research.google.com/github/Lufec/ML_Pima_Indians/blob/main/2_MLP.ipynb\" target=\"_parent\"><img src=\"https://colab.research.google.com/assets/colab-badge.svg\" alt=\"Open In Colab\"/></a>"
      ]
    },
    {
      "cell_type": "markdown",
      "metadata": {
        "id": "TgRrw8VS9jg2"
      },
      "source": [
        "# Pima Indians Diabetes - MLP\n",
        "\n"
      ]
    },
    {
      "cell_type": "markdown",
      "metadata": {
        "id": "bI5ocJr64J4h"
      },
      "source": [
        "## Importando bibliotecas\n"
      ]
    },
    {
      "cell_type": "code",
      "metadata": {
        "id": "JoNnZBfg4Cts"
      },
      "source": [
        "import pandas as pd\n",
        "from sklearn.model_selection import train_test_split\n",
        "from sklearn.metrics import classification_report, confusion_matrix, accuracy_score\n",
        "from sklearn.neural_network import MLPClassifier\n",
        "from sklearn.linear_model import SGDClassifier\n",
        "import matplotlib.pyplot as plt\n",
        "import numpy as np\n",
        "import random\n",
        "import statistics \n",
        "import scipy.stats\n"
      ],
      "execution_count": null,
      "outputs": []
    },
    {
      "cell_type": "markdown",
      "metadata": {
        "id": "lY8u9BLK4a5C"
      },
      "source": [
        "## Importando dados de treino e teste\n",
        "Importando os dados do banco de dados Pima de treino 80% e teste 20% definidos na lista passada"
      ]
    },
    {
      "cell_type": "code",
      "metadata": {
        "id": "guaTmGs14aAk",
        "colab": {
          "base_uri": "https://localhost:8080/"
        },
        "outputId": "9eaea006-17db-4839-e9d6-ec37fd11056a"
      },
      "source": [
        "dfTreino = pd.read_csv(\"/content/dfTreino20.csv\")\n",
        "dfTeste = pd.read_csv(\"/content/dfTeste20.csv\")\n",
        "print(dfTreino['Diagnóstico'].value_counts())\n",
        "print(dfTeste['Diagnóstico'].value_counts())"
      ],
      "execution_count": null,
      "outputs": [
        {
          "output_type": "stream",
          "text": [
            "2    400\n",
            "1    400\n",
            "Name: Diagnóstico, dtype: int64\n",
            "2    100\n",
            "1    100\n",
            "Name: Diagnóstico, dtype: int64\n"
          ],
          "name": "stdout"
        }
      ]
    },
    {
      "cell_type": "markdown",
      "metadata": {
        "id": "icNZBq1-Mx4J"
      },
      "source": [
        "## Separando X e Y dos dados"
      ]
    },
    {
      "cell_type": "code",
      "metadata": {
        "id": "CeAvk_8hM3q_"
      },
      "source": [
        "x_train = dfTreino.drop(columns = \"Diagnóstico\")\n",
        "y_train = dfTreino['Diagnóstico']\n",
        "x_test =  dfTeste.drop(columns = \"Diagnóstico\")\n",
        "y_test =  dfTeste['Diagnóstico']"
      ],
      "execution_count": null,
      "outputs": []
    },
    {
      "cell_type": "code",
      "metadata": {
        "id": "sQXLzx4inyQD"
      },
      "source": [
        "xtrain_mean = x_train.mean()\n",
        "xtrain_std = x_train.std()"
      ],
      "execution_count": null,
      "outputs": []
    },
    {
      "cell_type": "code",
      "metadata": {
        "id": "vj4DFbI7jB09"
      },
      "source": [
        "x_train = (x_train-xtrain_mean)/xtrain_std\n",
        "x_test = (x_test-xtrain_mean)/xtrain_std"
      ],
      "execution_count": null,
      "outputs": []
    },
    {
      "cell_type": "code",
      "metadata": {
        "id": "-dodYMXWhTOn",
        "colab": {
          "base_uri": "https://localhost:8080/",
          "height": 404
        },
        "outputId": "ff9ac372-f355-485d-a0cb-e830ebf8acc5"
      },
      "source": [
        "x_test"
      ],
      "execution_count": null,
      "outputs": [
        {
          "output_type": "execute_result",
          "data": {
            "text/html": [
              "<div>\n",
              "<style scoped>\n",
              "    .dataframe tbody tr th:only-of-type {\n",
              "        vertical-align: middle;\n",
              "    }\n",
              "\n",
              "    .dataframe tbody tr th {\n",
              "        vertical-align: top;\n",
              "    }\n",
              "\n",
              "    .dataframe thead th {\n",
              "        text-align: right;\n",
              "    }\n",
              "</style>\n",
              "<table border=\"1\" class=\"dataframe\">\n",
              "  <thead>\n",
              "    <tr style=\"text-align: right;\">\n",
              "      <th></th>\n",
              "      <th>Gravidez</th>\n",
              "      <th>Glicose</th>\n",
              "      <th>Pressão</th>\n",
              "      <th>Pele</th>\n",
              "      <th>Insulina</th>\n",
              "      <th>Massa Corpórea</th>\n",
              "      <th>Genealogia</th>\n",
              "      <th>Idade</th>\n",
              "    </tr>\n",
              "  </thead>\n",
              "  <tbody>\n",
              "    <tr>\n",
              "      <th>0</th>\n",
              "      <td>-1.131532</td>\n",
              "      <td>-0.899148</td>\n",
              "      <td>0.754030</td>\n",
              "      <td>-1.846328</td>\n",
              "      <td>-0.967803</td>\n",
              "      <td>-1.186050</td>\n",
              "      <td>-0.567773</td>\n",
              "      <td>-1.062927</td>\n",
              "    </tr>\n",
              "    <tr>\n",
              "      <th>1</th>\n",
              "      <td>1.812598</td>\n",
              "      <td>1.146745</td>\n",
              "      <td>0.924673</td>\n",
              "      <td>-0.333245</td>\n",
              "      <td>-0.440636</td>\n",
              "      <td>-0.820948</td>\n",
              "      <td>-0.868999</td>\n",
              "      <td>1.811892</td>\n",
              "    </tr>\n",
              "    <tr>\n",
              "      <th>2</th>\n",
              "      <td>-0.248293</td>\n",
              "      <td>-1.346687</td>\n",
              "      <td>-0.440470</td>\n",
              "      <td>0.008629</td>\n",
              "      <td>-0.717248</td>\n",
              "      <td>-0.207577</td>\n",
              "      <td>0.335902</td>\n",
              "      <td>-0.793413</td>\n",
              "    </tr>\n",
              "    <tr>\n",
              "      <th>3</th>\n",
              "      <td>-0.542706</td>\n",
              "      <td>-0.227839</td>\n",
              "      <td>-0.099184</td>\n",
              "      <td>-0.333245</td>\n",
              "      <td>-0.440636</td>\n",
              "      <td>-2.003878</td>\n",
              "      <td>0.938352</td>\n",
              "      <td>3.428978</td>\n",
              "    </tr>\n",
              "    <tr>\n",
              "      <th>4</th>\n",
              "      <td>-0.542706</td>\n",
              "      <td>-0.547510</td>\n",
              "      <td>1.607244</td>\n",
              "      <td>-0.333245</td>\n",
              "      <td>-0.440636</td>\n",
              "      <td>1.369662</td>\n",
              "      <td>0.938352</td>\n",
              "      <td>1.811892</td>\n",
              "    </tr>\n",
              "    <tr>\n",
              "      <th>...</th>\n",
              "      <td>...</td>\n",
              "      <td>...</td>\n",
              "      <td>...</td>\n",
              "      <td>...</td>\n",
              "      <td>...</td>\n",
              "      <td>...</td>\n",
              "      <td>...</td>\n",
              "      <td>...</td>\n",
              "    </tr>\n",
              "    <tr>\n",
              "      <th>195</th>\n",
              "      <td>1.518185</td>\n",
              "      <td>1.242647</td>\n",
              "      <td>1.265959</td>\n",
              "      <td>0.379620</td>\n",
              "      <td>0.431277</td>\n",
              "      <td>-0.426638</td>\n",
              "      <td>-0.567773</td>\n",
              "      <td>1.362702</td>\n",
              "    </tr>\n",
              "    <tr>\n",
              "      <th>196</th>\n",
              "      <td>-0.248293</td>\n",
              "      <td>-1.538489</td>\n",
              "      <td>-1.976256</td>\n",
              "      <td>0.255956</td>\n",
              "      <td>-0.922247</td>\n",
              "      <td>-0.339014</td>\n",
              "      <td>-0.868999</td>\n",
              "      <td>-0.703575</td>\n",
              "    </tr>\n",
              "    <tr>\n",
              "      <th>197</th>\n",
              "      <td>0.929359</td>\n",
              "      <td>-0.547510</td>\n",
              "      <td>0.583387</td>\n",
              "      <td>0.132292</td>\n",
              "      <td>0.431277</td>\n",
              "      <td>0.376585</td>\n",
              "      <td>1.842028</td>\n",
              "      <td>0.823673</td>\n",
              "    </tr>\n",
              "    <tr>\n",
              "      <th>198</th>\n",
              "      <td>1.223772</td>\n",
              "      <td>0.219700</td>\n",
              "      <td>-0.099184</td>\n",
              "      <td>0.379620</td>\n",
              "      <td>0.431277</td>\n",
              "      <td>-0.061537</td>\n",
              "      <td>-0.567773</td>\n",
              "      <td>0.464321</td>\n",
              "    </tr>\n",
              "    <tr>\n",
              "      <th>199</th>\n",
              "      <td>-1.131532</td>\n",
              "      <td>-0.707345</td>\n",
              "      <td>-0.781756</td>\n",
              "      <td>0.874275</td>\n",
              "      <td>-1.195580</td>\n",
              "      <td>0.040692</td>\n",
              "      <td>0.034677</td>\n",
              "      <td>-1.062927</td>\n",
              "    </tr>\n",
              "  </tbody>\n",
              "</table>\n",
              "<p>200 rows × 8 columns</p>\n",
              "</div>"
            ],
            "text/plain": [
              "     Gravidez   Glicose   Pressão  ...  Massa Corpórea  Genealogia     Idade\n",
              "0   -1.131532 -0.899148  0.754030  ...       -1.186050   -0.567773 -1.062927\n",
              "1    1.812598  1.146745  0.924673  ...       -0.820948   -0.868999  1.811892\n",
              "2   -0.248293 -1.346687 -0.440470  ...       -0.207577    0.335902 -0.793413\n",
              "3   -0.542706 -0.227839 -0.099184  ...       -2.003878    0.938352  3.428978\n",
              "4   -0.542706 -0.547510  1.607244  ...        1.369662    0.938352  1.811892\n",
              "..        ...       ...       ...  ...             ...         ...       ...\n",
              "195  1.518185  1.242647  1.265959  ...       -0.426638   -0.567773  1.362702\n",
              "196 -0.248293 -1.538489 -1.976256  ...       -0.339014   -0.868999 -0.703575\n",
              "197  0.929359 -0.547510  0.583387  ...        0.376585    1.842028  0.823673\n",
              "198  1.223772  0.219700 -0.099184  ...       -0.061537   -0.567773  0.464321\n",
              "199 -1.131532 -0.707345 -0.781756  ...        0.040692    0.034677 -1.062927\n",
              "\n",
              "[200 rows x 8 columns]"
            ]
          },
          "metadata": {
            "tags": []
          },
          "execution_count": 9
        }
      ]
    },
    {
      "cell_type": "markdown",
      "metadata": {
        "id": "tZwxEUkvZGYo"
      },
      "source": [
        "Objetivo: escolher a melhor estrutura de cada otimizador com base no conjunto de treino.\n",
        "Etapa I) Manter estrutura de neurônios e ativação (relu) constante, modificar demais parâmetros (alpha, learning rate init, beta1, beta2, epsilon)"
      ]
    },
    {
      "cell_type": "markdown",
      "metadata": {
        "id": "V6pF-dtKmVar"
      },
      "source": [
        "Teste I)  Mantendo a mesma estrutura de camadas internas (hidden layer sizes), ativação (relu), fora testado várias combinações de parâmetros para os três métodos de otimização: Adam, SGD e LBFGS. O critério de seleção será baseado nos algoritmos que apresentarem maior acurácia e precisão em repetidos testes.\n",
        "* Critério de parada: mudança da convergência ao resultado ser menor que 1*10^-4 ou não apresentar aumento na convergência em 20 testes seguidos, a partir de dados de validação de 20% do conjunto de treino (ou seja, 15% dos dados totais)."
      ]
    },
    {
      "cell_type": "markdown",
      "metadata": {
        "id": "I3O_VRQkoty6"
      },
      "source": [
        "* Para Adam (Adaptive Momentum Estimation), foram modificados os seguintes parâmetros: Taxa de penalidade (alpha), taxa de aprendizado inicial (learning rate init), coeficientes beta 1, beta 2 e epsilon."
      ]
    },
    {
      "cell_type": "markdown",
      "metadata": {
        "id": "6BWqLcd8WPon"
      },
      "source": [
        "\n",
        "* ### Adam"
      ]
    },
    {
      "cell_type": "code",
      "metadata": {
        "id": "4gyarHWejZM2"
      },
      "source": [
        "from sklearn.model_selection import GridSearchCV\n",
        "parameters = {'activation':['relu','tanh','logistic'],'solver':['adam'], 'hidden_layer_sizes':[(8,8),(8,8,8),(8)], 'max_iter':[200,500,1000],\n",
        "              'early_stopping':[True],'validation_fraction':[0.2],\n",
        "              'shuffle':[True],'tol':[1e-1,1e-2,1e-3,1e-4,1e-5],'n_iter_no_change':[10,20,30,50]\n",
        "}\n",
        "\n",
        "mlp = MLPClassifier()\n",
        "mlp1a = GridSearchCV(mlp, parameters)\n",
        "mlp1a.fit(x_train,y_train)\n",
        "mlp1a.best_params_"
      ],
      "execution_count": null,
      "outputs": []
    },
    {
      "cell_type": "code",
      "metadata": {
        "id": "BE0ID1IonHCj"
      },
      "source": [
        "mlp1a.best_params_"
      ],
      "execution_count": null,
      "outputs": []
    },
    {
      "cell_type": "code",
      "metadata": {
        "id": "5TUG9Qf4nIWh"
      },
      "source": [
        "print(\"Treino\\n\")\n",
        "predictions = mlp1a.predict(x_train)\n",
        "print(confusion_matrix(y_train,predictions))\n",
        "print(classification_report(y_train,predictions))\n",
        "print(\"\\nTeste\\n\")\n",
        "predictions = mlp1a.predict(x_test)\n",
        "print(confusion_matrix(y_test,predictions))\n",
        "print(classification_report(y_test,predictions))"
      ],
      "execution_count": null,
      "outputs": []
    },
    {
      "cell_type": "markdown",
      "metadata": {
        "id": "D_lKx8WdbaLK"
      },
      "source": [
        "Estrutura escolhida para próximos testes: número 2."
      ]
    },
    {
      "cell_type": "markdown",
      "metadata": {
        "id": "lgypmYSbX9S1"
      },
      "source": [
        "* ### SGD (Stochastic Gradient Descent): os parâmetros modificados foram: taxa de penalidade (alpha), taxa de aprendizado inicial, método de taxa de aprendizado (constante ou adaptativo neste caso) e momentum.\n",
        "\n",
        "\n"
      ]
    },
    {
      "cell_type": "code",
      "metadata": {
        "id": "5bS9GFn3YHYu",
        "colab": {
          "base_uri": "https://localhost:8080/"
        },
        "outputId": "4da8614e-c108-4310-db6f-7f617f0f4dae"
      },
      "source": [
        "mlp2 = MLPClassifier(solver = 'sgd',hidden_layer_sizes=(9,9),alpha = 1.0,\n",
        "                     learning_rate = 'adaptive', learning_rate_init = 0.8,\n",
        "                     verbose  = False,tol = 1e-4,\n",
        "                     momentum = 0.9, nesterovs_momentum = True, n_iter_no_change = 20,\n",
        "                     max_iter=1000, early_stopping= True, validation_fraction= 0.2)\n",
        "                     \n",
        "mlp2.fit(x_train, y_train.values.ravel())\n",
        "mlp2.score(x_train, y_train.values.ravel())"
      ],
      "execution_count": null,
      "outputs": [
        {
          "output_type": "execute_result",
          "data": {
            "text/plain": [
              "0.88625"
            ]
          },
          "metadata": {
            "tags": []
          },
          "execution_count": 10
        }
      ]
    },
    {
      "cell_type": "code",
      "metadata": {
        "id": "2yQeP4R-bvTc",
        "colab": {
          "base_uri": "https://localhost:8080/"
        },
        "outputId": "d2ff39ed-0b37-421b-924a-2bc5c936adc2"
      },
      "source": [
        "mlp2 = MLPClassifier(solver = 'sgd',hidden_layer_sizes=(9,9),alpha = 0.8,\n",
        "                     learning_rate = 'constant', learning_rate_init = 0.8,\n",
        "                     verbose  = False,tol = 1e-4,\n",
        "                     momentum = 0.9, nesterovs_momentum = True, n_iter_no_change = 20,\n",
        "                     max_iter=1000, early_stopping= True, validation_fraction= 0.2)\n",
        "                     \n",
        "mlp2.fit(x_train, y_train.values.ravel())\n",
        "mlp2.score(x_train, y_train.values.ravel())"
      ],
      "execution_count": null,
      "outputs": [
        {
          "output_type": "execute_result",
          "data": {
            "text/plain": [
              "0.89"
            ]
          },
          "metadata": {
            "tags": []
          },
          "execution_count": 11
        }
      ]
    },
    {
      "cell_type": "code",
      "metadata": {
        "id": "H1a1YY_dbvtq",
        "colab": {
          "base_uri": "https://localhost:8080/"
        },
        "outputId": "8a3b56fd-d218-4d06-9063-d219a099890b"
      },
      "source": [
        "mlp2 = MLPClassifier(solver = 'sgd',hidden_layer_sizes=(8,8,8),alpha = 1.0,\n",
        "                     learning_rate = 'adaptive', learning_rate_init = 0.8,\n",
        "                     verbose  = False,tol = 1e-4,\n",
        "                     momentum = 0.8, nesterovs_momentum = False, n_iter_no_change = 20,\n",
        "                     max_iter=1000, early_stopping= True, validation_fraction= 0.2)\n",
        "                     \n",
        "mlp2.fit(x_train, y_train.values.ravel())\n",
        "mlp2.score(x_train, y_train.values.ravel())"
      ],
      "execution_count": null,
      "outputs": [
        {
          "output_type": "execute_result",
          "data": {
            "text/plain": [
              "0.88"
            ]
          },
          "metadata": {
            "tags": []
          },
          "execution_count": 12
        }
      ]
    },
    {
      "cell_type": "markdown",
      "metadata": {
        "id": "4Tr3bGvBdyg9"
      },
      "source": [
        "Estrutura escolhida: número 3."
      ]
    },
    {
      "cell_type": "markdown",
      "metadata": {
        "id": "ZlTEwVwkX8S2"
      },
      "source": [
        "* Para LBFGS (Limited-Memory BFGS), além de não usar o conjunto de validação, só possui uma variável relativo à ela, que é o número máximo de chamadas da função de perda."
      ]
    },
    {
      "cell_type": "code",
      "metadata": {
        "id": "ZBwgttY3ZLDs",
        "colab": {
          "base_uri": "https://localhost:8080/"
        },
        "outputId": "ba099054-82e3-49c0-cc33-50c7d314fbac"
      },
      "source": [
        "mlp3 = MLPClassifier(solver = 'lbfgs',hidden_layer_sizes=(9,9), max_iter=4000, max_fun = 15000)\n",
        "mlp3.fit(x_train, y_train.values.ravel())\n",
        "mlp3.score(x_train, y_train.values.ravel())"
      ],
      "execution_count": null,
      "outputs": [
        {
          "output_type": "execute_result",
          "data": {
            "text/plain": [
              "0.995"
            ]
          },
          "metadata": {
            "tags": []
          },
          "execution_count": 13
        }
      ]
    },
    {
      "cell_type": "markdown",
      "metadata": {
        "id": "zivJlLGLeA2P"
      },
      "source": [
        "Estrutura automaticamente escolhida."
      ]
    },
    {
      "cell_type": "markdown",
      "metadata": {
        "id": "wmiFlqW4eDui"
      },
      "source": [
        "Teste II): Diferentes Estruturas da rede de neurônios\n",
        "\n",
        "* Adam"
      ]
    },
    {
      "cell_type": "code",
      "metadata": {
        "id": "KPfK50mgeJ6e",
        "colab": {
          "base_uri": "https://localhost:8080/"
        },
        "outputId": "9c655094-e649-4e59-cf55-b73e8d514607"
      },
      "source": [
        "mlp1 = MLPClassifier(solver = 'adam',hidden_layer_sizes=(10,10), max_iter=1000, early_stopping= True, validation_fraction= 0.2,\n",
        "                     alpha = 1.0, learning_rate_init = 0.05, \n",
        "                     shuffle = True, tol = 1e-4, verbose = False, beta_1 = 0.8,\n",
        "                     beta_2 = 0.9, epsilon = 1e-8,  n_iter_no_change = 20)\n",
        "\n",
        "\n",
        "\n",
        "mlp1.fit(x_train, \n",
        "         y_train.values.ravel())\n",
        "mlp1.score(x_train, y_train.values.ravel())"
      ],
      "execution_count": null,
      "outputs": [
        {
          "output_type": "execute_result",
          "data": {
            "text/plain": [
              "0.9075"
            ]
          },
          "metadata": {
            "tags": []
          },
          "execution_count": 14
        }
      ]
    },
    {
      "cell_type": "code",
      "metadata": {
        "id": "YmtwJemmeLx6",
        "colab": {
          "base_uri": "https://localhost:8080/"
        },
        "outputId": "2c4c9dee-998c-4a34-855e-532226cbd034"
      },
      "source": [
        "mlp1 = MLPClassifier(solver = 'adam',hidden_layer_sizes=(16,8,8), max_iter=1000, early_stopping= True, validation_fraction= 0.2,\n",
        "                     alpha = 1.0, learning_rate_init = 0.05, \n",
        "                     shuffle = True, tol = 1e-4, verbose = False, beta_1 = 0.8,\n",
        "                     beta_2 = 0.9, epsilon = 1e-8,  n_iter_no_change = 20)\n",
        "\n",
        "\n",
        "\n",
        "mlp1.fit(x_train, \n",
        "         y_train.values.ravel())\n",
        "mlp1.score(x_train, y_train.values.ravel())"
      ],
      "execution_count": null,
      "outputs": [
        {
          "output_type": "execute_result",
          "data": {
            "text/plain": [
              "0.9075"
            ]
          },
          "metadata": {
            "tags": []
          },
          "execution_count": 15
        }
      ]
    },
    {
      "cell_type": "markdown",
      "metadata": {
        "id": "WSDeoVtiepOv"
      },
      "source": [
        "Estrutura escolhida: número 2\n"
      ]
    },
    {
      "cell_type": "markdown",
      "metadata": {
        "id": "ryqltcnEeuIN"
      },
      "source": [
        "\n",
        "* SGD"
      ]
    },
    {
      "cell_type": "code",
      "metadata": {
        "id": "H_0AQDe9eokl",
        "colab": {
          "base_uri": "https://localhost:8080/"
        },
        "outputId": "67e99ef3-0bce-4e2a-eb28-b2977d94e53f"
      },
      "source": [
        "mlp2 = MLPClassifier(solver = 'sgd',hidden_layer_sizes=(9,9),alpha = 0.1,\n",
        "                     learning_rate = 'adaptive', learning_rate_init = 0.8,\n",
        "                     verbose  = False,tol = 1e-4,\n",
        "                     momentum = 0.8, nesterovs_momentum = True, n_iter_no_change = 20,\n",
        "                     max_iter=1000, early_stopping= True, validation_fraction= 0.2)\n",
        "                     \n",
        "mlp2.fit(x_train, y_train.values.ravel())\n",
        "mlp2.score(x_train, y_train.values.ravel())"
      ],
      "execution_count": null,
      "outputs": [
        {
          "output_type": "execute_result",
          "data": {
            "text/plain": [
              "0.92875"
            ]
          },
          "metadata": {
            "tags": []
          },
          "execution_count": 16
        }
      ]
    },
    {
      "cell_type": "code",
      "metadata": {
        "id": "szIqcK7Teykm",
        "colab": {
          "base_uri": "https://localhost:8080/"
        },
        "outputId": "9d6d5761-7bc6-4550-afd7-270f4d4ca01b"
      },
      "source": [
        "mlp2 = MLPClassifier(solver = 'sgd',hidden_layer_sizes=(16,16,8),alpha = 0.1,\n",
        "                     learning_rate = 'adaptive', learning_rate_init = 0.8,\n",
        "                     verbose  = False,tol = 1e-4,\n",
        "                     momentum = 0.8, nesterovs_momentum = True, n_iter_no_change = 20,\n",
        "                     max_iter=1000, early_stopping= True, validation_fraction= 0.2)\n",
        "                     \n",
        "mlp2.fit(x_train, y_train.values.ravel())\n",
        "mlp2.score(x_train, y_train.values.ravel())"
      ],
      "execution_count": null,
      "outputs": [
        {
          "output_type": "execute_result",
          "data": {
            "text/plain": [
              "0.9"
            ]
          },
          "metadata": {
            "tags": []
          },
          "execution_count": 17
        }
      ]
    },
    {
      "cell_type": "markdown",
      "metadata": {
        "id": "tlXit9_CfUIT"
      },
      "source": [
        "Estrutura escolhida: número 2."
      ]
    },
    {
      "cell_type": "markdown",
      "metadata": {
        "id": "NEdvoidNfXVw"
      },
      "source": [
        "### Testes usando os dados de treino"
      ]
    },
    {
      "cell_type": "markdown",
      "metadata": {
        "id": "IOJLh-Q7fZ0Q"
      },
      "source": [
        "* Adam"
      ]
    },
    {
      "cell_type": "code",
      "metadata": {
        "id": "K4QW9ep2fbEU",
        "colab": {
          "base_uri": "https://localhost:8080/"
        },
        "outputId": "d9214ad2-746f-4900-e5dd-d1a84f0546ae"
      },
      "source": [
        "mlp1 = MLPClassifier(solver = 'adam',hidden_layer_sizes=(16,8,4), max_iter=1000, early_stopping= False, validation_fraction= 0.2,\n",
        "                     alpha = 0.1, learning_rate_init = 0.05, \n",
        "                     shuffle = True, tol = 1e-4, verbose = False, beta_1 = 0.8,\n",
        "                     beta_2 = 0.9, epsilon = 1e-4,  n_iter_no_change = 50)\n",
        "\n",
        "\n",
        "mlp1.fit(x_train, \n",
        "         y_train.values.ravel())\n",
        "print(mlp1.n_iter_)\n",
        "predictions1 = mlp1.predict(x_test)\n",
        "print(confusion_matrix(y_test,predictions1))\n",
        "print(classification_report(y_test,predictions1))"
      ],
      "execution_count": null,
      "outputs": [
        {
          "output_type": "stream",
          "text": [
            "193\n",
            "[[88 12]\n",
            " [24 76]]\n",
            "              precision    recall  f1-score   support\n",
            "\n",
            "           1       0.79      0.88      0.83       100\n",
            "           2       0.86      0.76      0.81       100\n",
            "\n",
            "    accuracy                           0.82       200\n",
            "   macro avg       0.82      0.82      0.82       200\n",
            "weighted avg       0.82      0.82      0.82       200\n",
            "\n"
          ],
          "name": "stdout"
        }
      ]
    },
    {
      "cell_type": "markdown",
      "metadata": {
        "id": "Cbm5p0Unfn_X"
      },
      "source": [
        "* SGD"
      ]
    },
    {
      "cell_type": "code",
      "metadata": {
        "id": "nFDlh838fgVB",
        "colab": {
          "base_uri": "https://localhost:8080/"
        },
        "outputId": "ea996ed7-30ef-46b6-9810-02ba9e777c59"
      },
      "source": [
        "mlp2 = MLPClassifier(solver = 'sgd',hidden_layer_sizes=(10,10,10),alpha = 0.01,\n",
        "                     learning_rate = 'adaptive', learning_rate_init = 0.01,\n",
        "                     verbose  = False, tol = 1e-4, warm_start = True,\n",
        "                     momentum = 0.9, nesterovs_momentum = True, n_iter_no_change = 50,\n",
        "                     max_iter=100000, early_stopping= False, validation_fraction= 0.2)\n",
        "for i in range(300): #numero de ciclos aproximadamente ótimo para essa solução\n",
        "  mlp2.partial_fit(x_train, y_train.values.ravel(),[1., 2.])\n",
        "predictions2 = mlp2.predict(x_test)\n",
        "print(confusion_matrix(y_test,predictions2))\n",
        "print(classification_report(y_test,predictions2))"
      ],
      "execution_count": null,
      "outputs": [
        {
          "output_type": "stream",
          "text": [
            "[[87 13]\n",
            " [21 79]]\n",
            "              precision    recall  f1-score   support\n",
            "\n",
            "           1       0.81      0.87      0.84       100\n",
            "           2       0.86      0.79      0.82       100\n",
            "\n",
            "    accuracy                           0.83       200\n",
            "   macro avg       0.83      0.83      0.83       200\n",
            "weighted avg       0.83      0.83      0.83       200\n",
            "\n"
          ],
          "name": "stdout"
        }
      ]
    },
    {
      "cell_type": "markdown",
      "metadata": {
        "id": "Wl06xbVofrIa"
      },
      "source": [
        "* LBFGS"
      ]
    },
    {
      "cell_type": "code",
      "metadata": {
        "id": "X7e3HtV4fnRw",
        "colab": {
          "base_uri": "https://localhost:8080/"
        },
        "outputId": "6b02e2a4-36dc-4204-e32d-bad0a3dad2b4"
      },
      "source": [
        "mlp3 = MLPClassifier(solver = 'lbfgs',hidden_layer_sizes=(16,16), max_iter=8000, max_fun = 15000)\n",
        "mlp3.fit(x_train, y_train.values.ravel())\n",
        "predictions3 = mlp3.predict(x_test)\n",
        "print(confusion_matrix(y_test,predictions3))\n",
        "print(classification_report(y_test,predictions3))"
      ],
      "execution_count": null,
      "outputs": [
        {
          "output_type": "stream",
          "text": [
            "[[85 15]\n",
            " [28 72]]\n",
            "              precision    recall  f1-score   support\n",
            "\n",
            "           1       0.75      0.85      0.80       100\n",
            "           2       0.83      0.72      0.77       100\n",
            "\n",
            "    accuracy                           0.79       200\n",
            "   macro avg       0.79      0.78      0.78       200\n",
            "weighted avg       0.79      0.79      0.78       200\n",
            "\n"
          ],
          "name": "stdout"
        }
      ]
    },
    {
      "cell_type": "markdown",
      "metadata": {
        "id": "hoS72j-RygrD"
      },
      "source": [
        "Os resultados de acurácia aparentam ser próximos. Para avançar pra etapa seguinte, descarta-se o LBFGS pois seus resultados de acurácia não alcançaram os níveis encontrados nas otimizações em Adam e SGD. O LBFGS realizou overtraining. \n",
        "\n",
        "E entre o Adam e o SDG, O **SDG** teve um desempenho levemente superior ao Adam na questão da acurácia."
      ]
    },
    {
      "cell_type": "markdown",
      "metadata": {
        "id": "NChXP22YyKa9"
      },
      "source": [
        "Por esse dado motivo, encontrou-se o número de ciclos utilizados pela estrutura e modificou-se a função para controlar esse número com a intenção de realizar overtraining no exercício f)."
      ]
    },
    {
      "cell_type": "markdown",
      "metadata": {
        "id": "xOPFwflWhDzs"
      },
      "source": [
        "## Matriz de Confusão"
      ]
    },
    {
      "cell_type": "code",
      "metadata": {
        "id": "ppLRve0KeGXk",
        "colab": {
          "base_uri": "https://localhost:8080/"
        },
        "outputId": "a1104581-3a69-471f-f73b-201b620dfd72"
      },
      "source": [
        "predictions2 = mlp2.predict(x_test)\n",
        "print(confusion_matrix(y_test,predictions2))\n",
        "print(classification_report(y_test,predictions2))"
      ],
      "execution_count": null,
      "outputs": [
        {
          "output_type": "stream",
          "text": [
            "[[87 13]\n",
            " [21 79]]\n",
            "              precision    recall  f1-score   support\n",
            "\n",
            "           1       0.81      0.87      0.84       100\n",
            "           2       0.86      0.79      0.82       100\n",
            "\n",
            "    accuracy                           0.83       200\n",
            "   macro avg       0.83      0.83      0.83       200\n",
            "weighted avg       0.83      0.83      0.83       200\n",
            "\n"
          ],
          "name": "stdout"
        }
      ]
    },
    {
      "cell_type": "markdown",
      "metadata": {
        "id": "DXZBSH-o9-Xw"
      },
      "source": [
        "Função que retorna a média com intervalo de confiança:"
      ]
    },
    {
      "cell_type": "code",
      "metadata": {
        "id": "1JtAqR3rmHVW"
      },
      "source": [
        "def mean_confidence_interval(data, confidence=0.95):\n",
        "    a = 1.0 * np.array(data)\n",
        "    n = len(a)\n",
        "    m, se = np.mean(a), scipy.stats.sem(a)\n",
        "    h = se * scipy.stats.t.ppf((1 + confidence) / 2., n-1)\n",
        "    return m, m-h, m+h"
      ],
      "execution_count": null,
      "outputs": []
    },
    {
      "cell_type": "markdown",
      "metadata": {
        "id": "Oa1gILmY0NOA"
      },
      "source": [
        "Execução dos ciclos\n",
        "* Serão executados 30 ciclos da melhor rede encontrada.\n",
        "* A estrutura é chamada dentro do laço _for_ para inicializar novos pesos a cada chamada;\n",
        "* Para controlar número de epochs, um segundo _for_ é usado."
      ]
    },
    {
      "cell_type": "code",
      "metadata": {
        "id": "l4j1uYGt6Uf7",
        "colab": {
          "base_uri": "https://localhost:8080/"
        },
        "outputId": "1c338994-e971-40ca-df27-c93cda3fcb43"
      },
      "source": [
        "acuracia_media_treino = []\n",
        "acuracia_media_teste = []\n",
        "experimentos = 30\n",
        "for j in range(experimentos):\n",
        "  mlp4 = MLPClassifier(solver = 'sgd',hidden_layer_sizes=(8,8,8),alpha = 0.1,\n",
        "                     learning_rate = 'adaptive', learning_rate_init = 0.01,\n",
        "                     verbose  = False, tol = 1e-10, warm_start = True,\n",
        "                     momentum = 0.9, nesterovs_momentum = True, n_iter_no_change = 50,\n",
        "                     max_iter=1000, early_stopping= False, validation_fraction= 0.2)\n",
        "  for i in range(200): #numero de ciclos aproximadamente ótimo para essa solução\n",
        "     mlp4.partial_fit(x_train, y_train.values.ravel(),[1., 2.])\n",
        "\n",
        "  acuracia_media_treino.__iadd__([mlp4.score(x_train, y_train.values.ravel())])\n",
        "  acuracia_media_teste.__iadd__([mlp4.score(x_test, y_test.values.ravel())])\n",
        "print(\"Treino \\n\",\"        Média,        Limite Inferior,     Limite Superior \\n\" ,mean_confidence_interval(acuracia_media_treino, confidence=0.95))\n",
        "print(\"Teste \\n\",\"        Média,        Limite Inferior,     Limite Superior \\n\" ,mean_confidence_interval(acuracia_media_teste, confidence=0.95))\n"
      ],
      "execution_count": null,
      "outputs": [
        {
          "output_type": "stream",
          "text": [
            "Treino \n",
            "         Média,        Limite Inferior,     Limite Superior \n",
            " (0.902625, 0.8981073424568836, 0.9071426575431164)\n",
            "Teste \n",
            "         Média,        Limite Inferior,     Limite Superior \n",
            " (0.8133333333333332, 0.808230063789478, 0.8184366028771884)\n"
          ],
          "name": "stdout"
        }
      ]
    },
    {
      "cell_type": "markdown",
      "metadata": {
        "id": "aJsUvcmOmfyL"
      },
      "source": [
        "e)Pegue a melhor rede em \"c\" e realize, agora, um novo treino, partindo do estado em que a rede está (não inicialize os pesos). Treine a rede por um grande número de ciclos. Aplique a rede treinada sobre o conjunto de testes e verifique se ocorreu overtraining ou não."
      ]
    },
    {
      "cell_type": "markdown",
      "metadata": {
        "id": "Bs1m5201-Y-X"
      },
      "source": [
        "Como a estrutura escolhida realizou 200 ciclos, serão executados mais 1000 ciclos sobre os pesos atualmente calculados na estrutura."
      ]
    },
    {
      "cell_type": "code",
      "metadata": {
        "id": "gcN2gDOVmfJ4"
      },
      "source": [
        "ciclos_ovf = 1000\n",
        "for i in range(ciclos_ovf):\n",
        "  mlp2.partial_fit(x_train,y_train.values.ravel(),[1., 2.])"
      ],
      "execution_count": null,
      "outputs": []
    },
    {
      "cell_type": "markdown",
      "metadata": {
        "id": "FwdhBgeRw1D6"
      },
      "source": [
        "Matriz de confusão pré-overtraining"
      ]
    },
    {
      "cell_type": "code",
      "metadata": {
        "id": "m9rVLdMfw60s",
        "colab": {
          "base_uri": "https://localhost:8080/"
        },
        "outputId": "1f4e7d26-1a70-462f-a338-e9b9cefbff1d"
      },
      "source": [
        "print(confusion_matrix(y_test,predictions2))\n",
        "print(classification_report(y_test,predictions2))"
      ],
      "execution_count": null,
      "outputs": [
        {
          "output_type": "stream",
          "text": [
            "[[87 13]\n",
            " [21 79]]\n",
            "              precision    recall  f1-score   support\n",
            "\n",
            "           1       0.81      0.87      0.84       100\n",
            "           2       0.86      0.79      0.82       100\n",
            "\n",
            "    accuracy                           0.83       200\n",
            "   macro avg       0.83      0.83      0.83       200\n",
            "weighted avg       0.83      0.83      0.83       200\n",
            "\n"
          ],
          "name": "stdout"
        }
      ]
    },
    {
      "cell_type": "markdown",
      "metadata": {
        "id": "guRJ7-jzw9dq"
      },
      "source": [
        "Matriz de confusão pós-overtraining"
      ]
    },
    {
      "cell_type": "code",
      "metadata": {
        "id": "jppP3Vf1sanl",
        "colab": {
          "base_uri": "https://localhost:8080/"
        },
        "outputId": "a14b60c0-4315-4fd2-c27d-252b3f276f31"
      },
      "source": [
        "predictions5 = mlp2.predict(x_test)\n",
        "print(confusion_matrix(y_test,predictions5))\n",
        "print(classification_report(y_test,predictions5))"
      ],
      "execution_count": null,
      "outputs": [
        {
          "output_type": "stream",
          "text": [
            "[[85 15]\n",
            " [30 70]]\n",
            "              precision    recall  f1-score   support\n",
            "\n",
            "           1       0.74      0.85      0.79       100\n",
            "           2       0.82      0.70      0.76       100\n",
            "\n",
            "    accuracy                           0.78       200\n",
            "   macro avg       0.78      0.77      0.77       200\n",
            "weighted avg       0.78      0.78      0.77       200\n",
            "\n"
          ],
          "name": "stdout"
        }
      ]
    },
    {
      "cell_type": "markdown",
      "metadata": {
        "id": "7NaecHRznMWn"
      },
      "source": [
        "Conclusão: Usando o número de execuções de 200 ciclos para o primeiro caso e executando mais 1000 vezes no segundo, observa-se que ocorre overtraining na grande maioria dos casos. "
      ]
    },
    {
      "cell_type": "markdown",
      "metadata": {
        "id": "SXnWmqQmoGb_"
      },
      "source": [
        "## Melhor utilizando modelos de árvores\n",
        "\n",
        "\n"
      ]
    },
    {
      "cell_type": "markdown",
      "metadata": {
        "id": "CAqOTddxnAXN"
      },
      "source": [
        "![bagging.png](data:image/png;base64,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)"
      ]
    },
    {
      "cell_type": "markdown",
      "metadata": {
        "id": "5TeNmPwk_IZj"
      },
      "source": [
        "Em relação ao modelo desenvolvido na lista anterior, o modelo utilizando redes neurais teve um desempenho semelhante ao modelo de árvores Bagging. Mas, por depender de uma inicialização ótima dos pesos, o modelo MLP apresenta maior flutuação em seus resultados comparado ao Bagging. Apesar disso, ambos modelos apresentam resultados próximos."
      ]
    },
    {
      "cell_type": "code",
      "metadata": {
        "id": "2DwNFlWEpOj4",
        "colab": {
          "base_uri": "https://localhost:8080/"
        },
        "outputId": "ea9047ff-5d37-400d-fa15-3de618bc1d48"
      },
      "source": [
        "from sklearn.model_selection import GridSearchCV\n",
        "parameters = {'activation':['relu','tanh','logistic'],'solver':['adam'], 'hidden_layer_sizes':[(8,8,8),(10,10,10),(8,8,8,8),(8,8)], 'max_iter':[500],\n",
        "              'early_stopping':[True],'validation_fraction':[0.2],\n",
        "              'shuffle':[True],'tol':[1e-1,1e-2,1e-3,1e-4,1e-5],'n_iter_no_change':[20,30]\n",
        "}\n",
        "\n",
        "mlp = MLPClassifier()\n",
        "mlp1a = GridSearchCV(mlp, parameters)\n",
        "mlp1a.fit(x_train,y_train)\n",
        "print(mlp1a.best_params_)\n",
        "print(\"Treino\\n\")\n",
        "predictions = mlp1a.predict(x_train)\n",
        "print(confusion_matrix(y_train,predictions))\n",
        "print(classification_report(y_train,predictions))\n",
        "print(\"\\nTeste\\n\")\n",
        "predictions = mlp1a.predict(x_test)\n",
        "print(confusion_matrix(y_test,predictions))\n",
        "print(classification_report(y_test,predictions))"
      ],
      "execution_count": null,
      "outputs": [
        {
          "output_type": "stream",
          "text": [
            "{'activation': 'tanh', 'early_stopping': True, 'hidden_layer_sizes': (10, 10, 10), 'max_iter': 500, 'n_iter_no_change': 30, 'shuffle': True, 'solver': 'adam', 'tol': 0.001, 'validation_fraction': 0.2}\n",
            "Treino\n",
            "\n",
            "[[333  67]\n",
            " [ 49 351]]\n",
            "              precision    recall  f1-score   support\n",
            "\n",
            "           1       0.87      0.83      0.85       400\n",
            "           2       0.84      0.88      0.86       400\n",
            "\n",
            "    accuracy                           0.85       800\n",
            "   macro avg       0.86      0.85      0.85       800\n",
            "weighted avg       0.86      0.85      0.85       800\n",
            "\n",
            "\n",
            "Teste\n",
            "\n",
            "[[79 21]\n",
            " [16 84]]\n",
            "              precision    recall  f1-score   support\n",
            "\n",
            "           1       0.83      0.79      0.81       100\n",
            "           2       0.80      0.84      0.82       100\n",
            "\n",
            "    accuracy                           0.81       200\n",
            "   macro avg       0.82      0.81      0.81       200\n",
            "weighted avg       0.82      0.81      0.81       200\n",
            "\n"
          ],
          "name": "stdout"
        }
      ]
    }
  ]
}