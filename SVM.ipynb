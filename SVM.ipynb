{
  "nbformat": 4,
  "nbformat_minor": 0,
  "metadata": {
    "colab": {
      "name": "SVM.ipynb",
      "provenance": [],
      "collapsed_sections": [],
      "toc_visible": true,
      "authorship_tag": "ABX9TyOkNR4kr6Zg8SRfJDa1C+Nx",
      "include_colab_link": true
    },
    "kernelspec": {
      "name": "python3",
      "display_name": "Python 3"
    }
  },
  "cells": [
    {
      "cell_type": "markdown",
      "metadata": {
        "id": "view-in-github",
        "colab_type": "text"
      },
      "source": [
        "<a href=\"https://colab.research.google.com/github/Lufec/ML_Pima_Indians/blob/main/SVM.ipynb\" target=\"_parent\"><img src=\"https://colab.research.google.com/assets/colab-badge.svg\" alt=\"Open In Colab\"/></a>"
      ]
    },
    {
      "cell_type": "markdown",
      "metadata": {
        "id": "LdEBoqHU9vn5"
      },
      "source": [
        "# Pima Indians Diabetes - SVM\n"
      ]
    },
    {
      "cell_type": "code",
      "metadata": {
        "id": "sVtzdtVB3Xs2"
      },
      "source": [
        "import pandas as pd\n",
        "from sklearn.model_selection import train_test_split\n",
        "from sklearn.metrics import classification_report, confusion_matrix, accuracy_score\n",
        "from sklearn.model_selection import GridSearchCV\n",
        "from sklearn import svm\n",
        "from sklearn.decomposition import PCA\n",
        "from sklearn.svm import SVC\n",
        "import matplotlib.pyplot as plt\n",
        "import numpy as np\n",
        "import scipy.stats\n",
        "import os\n",
        "import seaborn as sns\n",
        "plt.style.use('fivethirtyeight')  \n",
        "import warnings"
      ],
      "execution_count": null,
      "outputs": []
    },
    {
      "cell_type": "code",
      "metadata": {
        "id": "34BztAnz3fMc",
        "colab": {
          "base_uri": "https://localhost:8080/"
        },
        "outputId": "b6ef55b1-39da-469e-d29e-dc6dea63766f"
      },
      "source": [
        "dfTreino = pd.read_csv(\"/content/dfTreino20.csv\")\n",
        "dfTeste = pd.read_csv(\"/content/dfTeste20.csv\")\n",
        "print(dfTreino['Diagnóstico'].value_counts())\n",
        "print(dfTeste['Diagnóstico'].value_counts())"
      ],
      "execution_count": null,
      "outputs": [
        {
          "output_type": "stream",
          "text": [
            "2    400\n",
            "1    400\n",
            "Name: Diagnóstico, dtype: int64\n",
            "2    100\n",
            "1    100\n",
            "Name: Diagnóstico, dtype: int64\n"
          ],
          "name": "stdout"
        }
      ]
    },
    {
      "cell_type": "code",
      "metadata": {
        "id": "t7Qu9syB3oo-"
      },
      "source": [
        "x_train = dfTreino.drop(columns = \"Diagnóstico\")\n",
        "y_train = dfTreino['Diagnóstico']\n",
        "x_test =  dfTeste.drop(columns = \"Diagnóstico\")\n",
        "y_test =  dfTeste['Diagnóstico']"
      ],
      "execution_count": null,
      "outputs": []
    },
    {
      "cell_type": "markdown",
      "metadata": {
        "id": "SDyl-87ePp73"
      },
      "source": [
        "### SVM kernel Linear"
      ]
    },
    {
      "cell_type": "markdown",
      "metadata": {
        "id": "cFcb6uH3CKc9"
      },
      "source": [
        "Para aplicar o SVM em dados de Íris, os parâmetros foram modificados e testados manualmente. Nesta aplicação do PIMA, será usada uma função que, dado um conjunto de parâmetros e possíveis valores, ela retornará os valores de parâmetros que obtiveram os melhores resultados de acurácia. O lado positivo é que irá entregar o melhor resultado dado a lista de valores passados. Já o lado negativo é o tempo computacional relativamente maior, principalmente nos casos de Kernel Sigmoidal e Polinomial que recebem um maior número de argumentos. "
      ]
    },
    {
      "cell_type": "code",
      "metadata": {
        "id": "7OXk3-QH0rEK",
        "colab": {
          "base_uri": "https://localhost:8080/"
        },
        "outputId": "5c8f4541-e20c-4e5b-d5a4-fdd8a62c595d"
      },
      "source": [
        "parameters = {'kernel':['linear'], 'C':[1,2,3,4,5,6,7,8],\n",
        "             'cache_size':[2048],'tol':[0.001,0.01,0.1,1,10]}\n",
        "\n",
        "svc = svm.SVC()\n",
        "svmL = GridSearchCV(svc, parameters)\n",
        "svmL.fit(x_train,y_train)\n",
        "svmL.best_params_"
      ],
      "execution_count": null,
      "outputs": [
        {
          "output_type": "execute_result",
          "data": {
            "text/plain": [
              "{'C': 4, 'cache_size': 2048, 'kernel': 'linear', 'tol': 1}"
            ]
          },
          "metadata": {
            "tags": []
          },
          "execution_count": 4
        }
      ]
    },
    {
      "cell_type": "code",
      "metadata": {
        "id": "_-AjWXbV1AXr",
        "colab": {
          "base_uri": "https://localhost:8080/"
        },
        "outputId": "ac6ff67d-fa41-46a2-e463-1ab903539008"
      },
      "source": [
        "print(\"Treino\\n\")\n",
        "predictions = svmL.predict(x_train)\n",
        "print(confusion_matrix(y_train,predictions))\n",
        "print(classification_report(y_train,predictions))\n",
        "print(\"\\nTeste\\n\")\n",
        "predictions = svmL.predict(x_test)\n",
        "print(confusion_matrix(y_test,predictions))\n",
        "print(classification_report(y_test,predictions))"
      ],
      "execution_count": null,
      "outputs": [
        {
          "output_type": "stream",
          "text": [
            "Treino\n",
            "\n",
            "[[331  69]\n",
            " [ 93 307]]\n",
            "              precision    recall  f1-score   support\n",
            "\n",
            "           1       0.78      0.83      0.80       400\n",
            "           2       0.82      0.77      0.79       400\n",
            "\n",
            "    accuracy                           0.80       800\n",
            "   macro avg       0.80      0.80      0.80       800\n",
            "weighted avg       0.80      0.80      0.80       800\n",
            "\n",
            "\n",
            "Teste\n",
            "\n",
            "[[79 21]\n",
            " [18 82]]\n",
            "              precision    recall  f1-score   support\n",
            "\n",
            "           1       0.81      0.79      0.80       100\n",
            "           2       0.80      0.82      0.81       100\n",
            "\n",
            "    accuracy                           0.81       200\n",
            "   macro avg       0.81      0.80      0.80       200\n",
            "weighted avg       0.81      0.81      0.80       200\n",
            "\n"
          ],
          "name": "stdout"
        }
      ]
    },
    {
      "cell_type": "markdown",
      "metadata": {
        "id": "uf9qqHT1UIqA"
      },
      "source": [
        "### SVM kernel RBF"
      ]
    },
    {
      "cell_type": "code",
      "metadata": {
        "id": "CjCNgQPT2U9c",
        "colab": {
          "base_uri": "https://localhost:8080/"
        },
        "outputId": "2a91b7b0-0a93-4339-888e-29f9ab9ee7b9"
      },
      "source": [
        "parameters = {'kernel':['rbf'], 'C':[1,2,3,4,5,6,7,8],\n",
        "              'gamma':('scale','auto'), \n",
        "             'cache_size':[2048],'tol':[0.001,0.01,0.1,1,10]}\n",
        "\n",
        "svc = svm.SVC()\n",
        "svmRBF = GridSearchCV(svc, parameters)\n",
        "svmRBF.fit(x_train,y_train.values.ravel())\n",
        "svmRBF.best_params_"
      ],
      "execution_count": null,
      "outputs": [
        {
          "output_type": "execute_result",
          "data": {
            "text/plain": [
              "{'C': 3, 'cache_size': 2048, 'gamma': 'auto', 'kernel': 'rbf', 'tol': 1}"
            ]
          },
          "metadata": {
            "tags": []
          },
          "execution_count": 6
        }
      ]
    },
    {
      "cell_type": "code",
      "metadata": {
        "id": "oQ1JsiUJ2tbu",
        "colab": {
          "base_uri": "https://localhost:8080/"
        },
        "outputId": "8fb6c850-fc0d-47bb-a810-b10947df9335"
      },
      "source": [
        "print(\"Treino\\n\")\n",
        "predictions = svmRBF.predict(x_train)\n",
        "print(confusion_matrix(y_train,predictions))\n",
        "print(classification_report(y_train,predictions))\n",
        "print(\"\\nTeste\\n\")\n",
        "predictions = svmRBF.predict(x_test)\n",
        "print(confusion_matrix(y_test,predictions))\n",
        "print(classification_report(y_test,predictions))"
      ],
      "execution_count": null,
      "outputs": [
        {
          "output_type": "stream",
          "text": [
            "Treino\n",
            "\n",
            "[[361  39]\n",
            " [ 47 353]]\n",
            "              precision    recall  f1-score   support\n",
            "\n",
            "           1       0.88      0.90      0.89       400\n",
            "           2       0.90      0.88      0.89       400\n",
            "\n",
            "    accuracy                           0.89       800\n",
            "   macro avg       0.89      0.89      0.89       800\n",
            "weighted avg       0.89      0.89      0.89       800\n",
            "\n",
            "\n",
            "Teste\n",
            "\n",
            "[[85 15]\n",
            " [17 83]]\n",
            "              precision    recall  f1-score   support\n",
            "\n",
            "           1       0.83      0.85      0.84       100\n",
            "           2       0.85      0.83      0.84       100\n",
            "\n",
            "    accuracy                           0.84       200\n",
            "   macro avg       0.84      0.84      0.84       200\n",
            "weighted avg       0.84      0.84      0.84       200\n",
            "\n"
          ],
          "name": "stdout"
        }
      ]
    },
    {
      "cell_type": "markdown",
      "metadata": {
        "id": "qRoMfxFX14RW"
      },
      "source": [
        "### SVM Polinomial"
      ]
    },
    {
      "cell_type": "code",
      "metadata": {
        "id": "vDKDcDjQ3Elc",
        "colab": {
          "base_uri": "https://localhost:8080/"
        },
        "outputId": "01e94049-62b9-4a8f-d010-a8fecb82a637"
      },
      "source": [
        "parameters = {'kernel':['poly'], 'C':[1,2,3,4,5,6,7,8],'degree':[2,3,4,5,6,7],\n",
        "              'gamma':('scale','auto'), 'coef0':[-1,-0.5,0,0.5,1],\n",
        "             'cache_size':[2048],'tol':[0.001,0.01,0.1,1,10]}\n",
        "\n",
        "svc = svm.SVC()\n",
        "svmPoly = GridSearchCV(svc, parameters)\n",
        "svmPoly.fit(x_train,y_train.values.ravel())\n",
        "svmPoly.best_params_"
      ],
      "execution_count": null,
      "outputs": [
        {
          "output_type": "execute_result",
          "data": {
            "text/plain": [
              "{'C': 1,\n",
              " 'cache_size': 2048,\n",
              " 'coef0': 0.5,\n",
              " 'degree': 3,\n",
              " 'gamma': 'scale',\n",
              " 'kernel': 'poly',\n",
              " 'tol': 0.1}"
            ]
          },
          "metadata": {
            "tags": []
          },
          "execution_count": 8
        }
      ]
    },
    {
      "cell_type": "code",
      "metadata": {
        "id": "E5CKA2uQ3Vhj",
        "colab": {
          "base_uri": "https://localhost:8080/"
        },
        "outputId": "cbbc0567-beba-4514-d0d6-bfd6c371753b"
      },
      "source": [
        "print(\"Treino\\n\")\n",
        "predictions = svmPoly.predict(x_train)\n",
        "print(confusion_matrix(y_train,predictions))\n",
        "print(classification_report(y_train,predictions))\n",
        "print(\"\\nTeste\\n\")\n",
        "predictions = svmPoly.predict(x_test)\n",
        "print(confusion_matrix(y_test,predictions))\n",
        "print(classification_report(y_test,predictions))"
      ],
      "execution_count": null,
      "outputs": [
        {
          "output_type": "stream",
          "text": [
            "Treino\n",
            "\n",
            "[[358  42]\n",
            " [ 49 351]]\n",
            "              precision    recall  f1-score   support\n",
            "\n",
            "           1       0.88      0.90      0.89       400\n",
            "           2       0.89      0.88      0.89       400\n",
            "\n",
            "    accuracy                           0.89       800\n",
            "   macro avg       0.89      0.89      0.89       800\n",
            "weighted avg       0.89      0.89      0.89       800\n",
            "\n",
            "\n",
            "Teste\n",
            "\n",
            "[[80 20]\n",
            " [22 78]]\n",
            "              precision    recall  f1-score   support\n",
            "\n",
            "           1       0.78      0.80      0.79       100\n",
            "           2       0.80      0.78      0.79       100\n",
            "\n",
            "    accuracy                           0.79       200\n",
            "   macro avg       0.79      0.79      0.79       200\n",
            "weighted avg       0.79      0.79      0.79       200\n",
            "\n"
          ],
          "name": "stdout"
        }
      ]
    },
    {
      "cell_type": "markdown",
      "metadata": {
        "id": "adKBxSzc1-2v"
      },
      "source": [
        "### SVM Sigmoidal"
      ]
    },
    {
      "cell_type": "code",
      "metadata": {
        "id": "3Oa4lAcg3lL1",
        "colab": {
          "base_uri": "https://localhost:8080/"
        },
        "outputId": "86d8d0e7-cf62-4419-9aa4-a846297dc1b5"
      },
      "source": [
        "parameters = {'kernel':['sigmoid'], 'C':[1,2,3,4,5,6,7,8],\n",
        "              'gamma':('scale','auto'), 'coef0':[-1,-0.5,0,0.5,1,2,3,4],\n",
        "             'cache_size':[2048],'tol':[0.001,0.01,0.1,1,10]}\n",
        "\n",
        "svc = svm.SVC()\n",
        "svmSig = GridSearchCV(svc, parameters)\n",
        "svmSig.fit(x_train,y_train.values.ravel())\n",
        "svmSig.best_params_"
      ],
      "execution_count": null,
      "outputs": [
        {
          "output_type": "execute_result",
          "data": {
            "text/plain": [
              "{'C': 1,\n",
              " 'cache_size': 2048,\n",
              " 'coef0': -1,\n",
              " 'gamma': 'auto',\n",
              " 'kernel': 'sigmoid',\n",
              " 'tol': 0.01}"
            ]
          },
          "metadata": {
            "tags": []
          },
          "execution_count": 10
        }
      ]
    },
    {
      "cell_type": "code",
      "metadata": {
        "id": "IK6c0sWO34t2",
        "colab": {
          "base_uri": "https://localhost:8080/"
        },
        "outputId": "1e0efabf-cf63-4831-be1d-29a10fbb5107"
      },
      "source": [
        "print(\"Treino\\n\")\n",
        "predictions = svmSig.predict(x_train)\n",
        "print(confusion_matrix(y_train,predictions))\n",
        "print(classification_report(y_train,predictions))\n",
        "print(\"\\nTeste\\n\")\n",
        "predictions = svmSig.predict(x_test)\n",
        "print(confusion_matrix(y_test,predictions))\n",
        "print(classification_report(y_test,predictions))"
      ],
      "execution_count": null,
      "outputs": [
        {
          "output_type": "stream",
          "text": [
            "Treino\n",
            "\n",
            "[[325  75]\n",
            " [ 68 332]]\n",
            "              precision    recall  f1-score   support\n",
            "\n",
            "           1       0.83      0.81      0.82       400\n",
            "           2       0.82      0.83      0.82       400\n",
            "\n",
            "    accuracy                           0.82       800\n",
            "   macro avg       0.82      0.82      0.82       800\n",
            "weighted avg       0.82      0.82      0.82       800\n",
            "\n",
            "\n",
            "Teste\n",
            "\n",
            "[[82 18]\n",
            " [15 85]]\n",
            "              precision    recall  f1-score   support\n",
            "\n",
            "           1       0.85      0.82      0.83       100\n",
            "           2       0.83      0.85      0.84       100\n",
            "\n",
            "    accuracy                           0.83       200\n",
            "   macro avg       0.84      0.83      0.83       200\n",
            "weighted avg       0.84      0.83      0.83       200\n",
            "\n"
          ],
          "name": "stdout"
        }
      ]
    },
    {
      "cell_type": "markdown",
      "metadata": {
        "id": "cjyihMvxCk-H"
      },
      "source": [
        "Melhores Resultados encontrados foram usando o Kernel RBF de parâmetros:\n",
        "\n",
        "* C = 3;\n",
        "* gamma = auto;\n",
        "* tol = 1. \n",
        "\n",
        "Que apresentou acurácia de 84%."
      ]
    },
    {
      "cell_type": "markdown",
      "metadata": {
        "id": "kknI6CvC-aS4"
      },
      "source": [
        "Para identificar diferentes resultados usando SVM, foram realizados 30 experimentos usando 80% dos dados escolhidos aleatoriamente em cada teste."
      ]
    },
    {
      "cell_type": "code",
      "metadata": {
        "id": "PDnbeKmh3B07"
      },
      "source": [
        "acuracia_treino = []\n",
        "acuracia_teste = []\n",
        "experimentos = 30\n",
        "svmRBF = SVC(C=3.0,kernel='rbf',gamma='auto',tol=1,\n",
        "        cache_size=2048, max_iter=-1, decision_function_shape=\"ovo\") \n",
        "\n",
        "for i in range(experimentos):\n",
        "  dfTreino2 = dfTreino.sample(frac = 0.8).reset_index(drop = True)\n",
        "  dfTeste2 = dfTeste.sample(frac = 0.8).reset_index(drop = True)\n",
        "\n",
        "  x_train2 = dfTreino2.drop(columns = \"Diagnóstico\")\n",
        "  y_train2 = dfTreino2['Diagnóstico']\n",
        "  x_test2 =  dfTeste2.drop(columns = \"Diagnóstico\")\n",
        "  y_test2 =  dfTeste2['Diagnóstico']\n",
        "\n",
        "  svmRBF.fit(x_train2, y_train2.values.ravel())\n",
        "\n",
        "  acuracia_treino.__iadd__([svmRBF.score(x_train2, y_train2.values.ravel())])\n",
        "  acuracia_teste.__iadd__([svmRBF.score(x_test2, y_test2.values.ravel())])"
      ],
      "execution_count": null,
      "outputs": []
    },
    {
      "cell_type": "code",
      "metadata": {
        "id": "UuTZem-g3bqJ"
      },
      "source": [
        "def mean_confidence_interval(data, confidence=0.95):\n",
        "    a = 1.0 * np.array(data)\n",
        "    n = len(a)\n",
        "    m, se = np.mean(a), scipy.stats.sem(a)\n",
        "    h = se * scipy.stats.t.ppf((1 + confidence) / 2., n-1)\n",
        "    return m, m-h, m+h"
      ],
      "execution_count": null,
      "outputs": []
    },
    {
      "cell_type": "code",
      "metadata": {
        "id": "qQYSgmr03oxw",
        "colab": {
          "base_uri": "https://localhost:8080/"
        },
        "outputId": "e021441f-f650-4076-ec8d-429a9c07e5b0"
      },
      "source": [
        "print(\"Treino \\n\",\"        Média,        Limite Inferior,     Limite Superior \\n\" ,mean_confidence_interval(acuracia_treino, confidence=0.95))\n",
        "print(\"Teste \\n\",\"        Média,        Limite Inferior,     Limite Superior \\n\" ,mean_confidence_interval(acuracia_teste, confidence=0.95))"
      ],
      "execution_count": null,
      "outputs": [
        {
          "output_type": "stream",
          "text": [
            "Treino \n",
            "         Média,        Limite Inferior,     Limite Superior \n",
            " (0.89625, 0.8937109705254409, 0.8987890294745591)\n",
            "Teste \n",
            "         Média,        Limite Inferior,     Limite Superior \n",
            " (0.8243750000000001, 0.8163289428829374, 0.8324210571170627)\n"
          ],
          "name": "stdout"
        }
      ]
    },
    {
      "cell_type": "markdown",
      "metadata": {
        "id": "uenIL1Ak-ug7"
      },
      "source": [
        "Comparando ao resultado encontrados nos modelos MLP:"
      ]
    },
    {
      "cell_type": "markdown",
      "metadata": {
        "id": "xKvw5YX0-0Vz"
      },
      "source": [
        "![compararMLP.png](data:image/png;base64,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)"
      ]
    },
    {
      "cell_type": "markdown",
      "metadata": {
        "id": "Zbp18pl1Ecxv"
      },
      "source": [
        "Os resultados comparados indicam que o classificador usando SVM é mais acurado que o classifcador usando MLP. Estes casos possuem duas nuâncias:\n",
        "* Apesar do SVM ter obtido esses valores através de 30 experimentos, não são usados todos os dados disponíveis (apenas 80% deles aleatoriamente em cada teste);\n",
        "* O resultado encontrado na letra d) usando MLP não é o resultado ótimo encontrado usando um número maior de ciclos. \n",
        "\n",
        "Portanto, iremos comparar os resultados de ambos para os melhores casos encontrados."
      ]
    },
    {
      "cell_type": "markdown",
      "metadata": {
        "id": "tb-IT4poFCM1"
      },
      "source": [
        "Para o SVM:"
      ]
    },
    {
      "cell_type": "code",
      "metadata": {
        "id": "CRFpPsSKFD4Z",
        "colab": {
          "base_uri": "https://localhost:8080/"
        },
        "outputId": "cf21596d-d272-4e9c-eb75-0b7512b73bc7"
      },
      "source": [
        "print(\"\\nTeste\\n\")\n",
        "predictions = svmRBF.predict(x_test)\n",
        "print(confusion_matrix(y_test,predictions))\n",
        "print(classification_report(y_test,predictions))"
      ],
      "execution_count": null,
      "outputs": [
        {
          "output_type": "stream",
          "text": [
            "\n",
            "Teste\n",
            "\n",
            "[[85 15]\n",
            " [16 84]]\n",
            "              precision    recall  f1-score   support\n",
            "\n",
            "           1       0.84      0.85      0.85       100\n",
            "           2       0.85      0.84      0.84       100\n",
            "\n",
            "    accuracy                           0.84       200\n",
            "   macro avg       0.85      0.84      0.84       200\n",
            "weighted avg       0.85      0.84      0.84       200\n",
            "\n"
          ],
          "name": "stdout"
        }
      ]
    },
    {
      "cell_type": "markdown",
      "metadata": {
        "id": "46CmwHOxFLwC"
      },
      "source": [
        "Para o MLP :"
      ]
    },
    {
      "cell_type": "markdown",
      "metadata": {
        "id": "PkOm6G2ZFORP"
      },
      "source": [
        "![melhorMLP.png](data:image/png;base64,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)"
      ]
    },
    {
      "cell_type": "markdown",
      "metadata": {
        "id": "TmnXa5jsFxaa"
      },
      "source": [
        "Conclusão: Ambos algoritmos encontraram Acurácias semelhantes em seus melhores casos. Porém o MLP possui flutuações na acurácia caso o modelo seja re-executado. E essas acurácias variam de 80-84%. Como o SVM apresenta constância em seu resultado, é mais vantajoso usá-lo em comparação ao MLP (para este conjunto de dados específico). "
      ]
    }
  ]
}