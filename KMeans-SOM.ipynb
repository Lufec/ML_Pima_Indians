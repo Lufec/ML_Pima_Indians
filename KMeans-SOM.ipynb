{
  "nbformat": 4,
  "nbformat_minor": 0,
  "metadata": {
    "colab": {
      "name": "L6-pt2.ipynb",
      "provenance": [],
      "collapsed_sections": [],
      "toc_visible": true,
      "authorship_tag": "ABX9TyMX65aM26mGcxRw1rr+zMTw"
    },
    "kernelspec": {
      "name": "python3",
      "display_name": "Python 3"
    }
  },
      "source": [
        "import pandas as pd\n",
        "from sklearn.model_selection import train_test_split\n",
        "from sklearn.metrics import classification_report, confusion_matrix, accuracy_score\n",
        "from sklearn.model_selection import GridSearchCV\n",
        "from sklearn.decomposition import PCA\n",
        "from sklearn.cluster import KMeans\n",
        "import matplotlib.pyplot as plt\n",
        "from scipy.spatial.distance import cdist\n",
        "import numpy as np\n",
        "import scipy.stats\n",
        "import os\n",
        "plt.style.use('fivethirtyeight')  \n",
        "import warnings"
      ],
      "execution_count": null,
      "outputs": []
    },
    {
      "cell_type": "code",
      "metadata": {
        "id": "34BztAnz3fMc",
        "colab": {
          "base_uri": "https://localhost:8080/"
        },
        "outputId": "5cd4381b-a673-4a5e-d16f-ecc5d5827ab6"
      },
      "source": [
        "dfTreino = pd.read_csv(\"/content/dfTreino20.csv\").sample(frac = 1).reset_index(drop = True)\n",
        "dfTeste = pd.read_csv(\"/content/dfTeste20.csv\").sample(frac = 1).reset_index(drop = True)\n",
        "print(dfTreino['Diagnóstico'].value_counts())\n",
        "print(dfTeste['Diagnóstico'].value_counts())"
      ],
      "execution_count": null,
      "outputs": [
        {
          "output_type": "stream",
          "text": [
            "2    400\n",
            "1    400\n",
            "Name: Diagnóstico, dtype: int64\n",
            "2    100\n",
            "1    100\n",
            "Name: Diagnóstico, dtype: int64\n"
          ],
          "name": "stdout"
        }
      ]
    },
    {
      "cell_type": "code",
      "metadata": {
        "id": "t7Qu9syB3oo-"
      },
      "source": [
        "x_train = dfTreino.drop(columns = \"Diagnóstico\")\n",
        "y_train = dfTreino['Diagnóstico']\n",
        "x_test =  dfTeste.drop(columns = \"Diagnóstico\")\n",
        "y_test =  dfTeste['Diagnóstico']"
      ],
      "execution_count": null,
      "outputs": []
    },
    {
      "cell_type": "markdown",
      "metadata": {
        "id": "EWA4zNUGPmoa"
      },
      "source": [
        " Sem normalização de dados resultou em melhores respostas. Portanto, os dados irão diretamente para a aplicação."
      ]
    },
    {
      "cell_type": "markdown",
      "metadata": {
        "id": "owlh7MtNK1ni"
      },
      "source": [
        "Técnica do Cotovelo para determinar número ideal de clusters."
      ]
    },
    {
      "cell_type": "code",
      "metadata": {
        "id": "JW0jSDQMgLP5"
      },
      "source": [
        "distortions = []\n",
        "K = range(1,40)\n",
        "for k in K: \n",
        "    kmeansElbow_model = KMeans(n_clusters=k)\n",
        "    kmeansElbow_model.fit(x_train)\n",
        "    distortions.append(sum(np.min(cdist(x_train,kmeansElbow_model.cluster_centers_,\"euclidean\"),axis=1))/x_train.shape[0])"
      ],
      "execution_count": null,
      "outputs": []
    },
    {
      "cell_type": "code",
      "metadata": {
        "colab": {
          "base_uri": "https://localhost:8080/",
          "height": 312
        },
        "id": "v5DEJJ3bgv0c",
        "outputId": "ff7b090f-3738-48ba-c970-1aa99310f858"
      },
      "source": [
        "#Plot distortions againt K value\n",
        "print(K)\n",
        "# checking for min of K value\n",
        "print(np.min(distortions))\n",
        "#Plotting for change in K value\n",
        "plt.plot(K,distortions,'bx-')"
      ],
      "execution_count": null,
      "outputs": [
        {
          "output_type": "stream",
          "text": [
            "range(1, 40)\n",
            "17.88653006271552\n"
          ],
          "name": "stdout"
        },
        {
          "output_type": "execute_result",
          "data": {
            "text/plain": [
              "[<matplotlib.lines.Line2D at 0x7f4fc9676128>]"
            ]
          },
          "metadata": {
            "tags": []
          },
          "execution_count": 5
        },
        {
          "output_type": "display_data",
          "data": {
            "image/png": "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\n",
            "text/plain": [
              "<Figure size 432x288 with 1 Axes>"
            ]
          },
          "metadata": {
            "tags": [],
            "needs_background": "light"
          }
        }
      ]
    },
    {
      "cell_type": "markdown",
      "metadata": {
        "id": "mucdJLriK62g"
      },
      "source": [
        "Número de clusters escolhidos : 8"
      ]
    },
    {
      "cell_type": "code",
      "metadata": {
        "id": "D03iHOpHg3kJ"
      },
      "source": [
        "cluster_total = 8\n",
        "kmeans = KMeans(n_clusters=cluster_total, random_state=0, max_iter = 1000, tol = 1e-4, algorithm = \"elkan\").fit(x_train)"
      ],
      "execution_count": null,
      "outputs": []
    },
    {
      "cell_type": "code",
      "metadata": {
        "id": "8AO0DqMUhIj-"
      },
      "source": [
        "pred = kmeans.predict(x_train)"
      ],
      "execution_count": null,
      "outputs": []
    },
    {
      "cell_type": "markdown",
      "metadata": {
        "id": "cjiE00jfLBJA"
      },
      "source": [
        "Funcionamento básico do algoritmo utilizado para identificar a classe:\n",
        "* Inicializa um contador de tamanho nº classes x nº de clusters. \n",
        "* Conta, em cada classe real, as ocorrências de cada classe determinada pelos clusters\n",
        "* O maior valor encontrado para cada classe real no caso de treino será armazenado em uma chave. Por exemplo, o cluster 6 possui maior número de ocorrências na classe 0, então será gerado uma chave 6:0. Isso é necessário para identificar a classe correta nos dados de teste.\n",
        "* Caso o valor predito pelo algoritmo seja igual ao índice da chave, seu valor é substituido pelo valor da chave. Por exemplo, se o valor predito for 6, ele será substituido por 0.\n",
        "\n",
        "Se o algoritmo for seguido à risca como indicado, ocorrerão problemas na substituição em valores já acertados. Portanto em vez de substituir pelo valor exato da classe, o valor substituido primariamente possui um offset (neste caso, do tamanho do número de classes) e, após as substituições, esses valores são subtraidos pelo offset para representar a predição real.\n",
        "\n",
        "Caso exemplo se não fosse realizado esse ajuste: cluster 0 representa classe 1, portanto substitui todos os 0's preditos por 1. Porém o cluster 1 representa a classe 2. Assim os 1's já corrigidos seriam modificados para o valor incorreto da classe 2"
      ]
    },
    {
      "cell_type": "code",
      "metadata": {
        "id": "VevxW3w7g-jT"
      },
      "source": [
        "contadores = np.zeros((2,cluster_total))\n",
        "\n",
        "for i in range(len(pred)):\n",
        "  if y_train[i] == 1:\n",
        "    contadores[0][pred[i]] += 1\n",
        "  else:\n",
        "    contadores[1][pred[i]] += 1\n"
      ],
      "execution_count": null,
      "outputs": []
    },
    {
      "cell_type": "code",
      "metadata": {
        "colab": {
          "base_uri": "https://localhost:8080/"
        },
        "id": "Of0xU_rVisn4",
        "outputId": "b0762d28-f5f3-466a-ef6d-bda51982c54b"
      },
      "source": [
        "contadores"
      ],
      "execution_count": null,
      "outputs": [
        {
          "output_type": "execute_result",
          "data": {
            "text/plain": [
              "array([[  3.,  99.,   4., 179.,  25.,  16.,   2.,  72.],\n",
              "       [135.,  13.,  13.,  13., 159.,  13.,   1.,  53.]])"
            ]
          },
          "metadata": {
            "tags": []
          },
          "execution_count": 9
        }
      ]
    },
    {
      "cell_type": "code",
      "metadata": {
        "id": "X05QnGRQiweZ",
        "colab": {
          "base_uri": "https://localhost:8080/"
        },
        "outputId": "574a6371-f7f3-4e92-8518-2124ec77480c"
      },
      "source": [
        "chave = {}\n",
        "for i in range(cluster_total):\n",
        "  if contadores[0][i] > contadores [1][i]:\n",
        "    chave[i] = cluster_total+1\n",
        "  else:\n",
        "    chave[i] = cluster_total+2\n",
        "chave"
      ],
      "execution_count": null,
      "outputs": [
        {
          "output_type": "execute_result",
          "data": {
            "text/plain": [
              "{0: 10, 1: 9, 2: 10, 3: 9, 4: 10, 5: 9, 6: 9, 7: 9}"
            ]
          },
          "metadata": {
            "tags": []
          },
          "execution_count": 10
        }
      ]
    },
    {
      "cell_type": "code",
      "metadata": {
        "id": "_x8BKZarHDnX"
      },
      "source": [
        "for i in range(cluster_total):\n",
        "  for j in range(len(pred)):\n",
        "    if pred[j] == i:\n",
        "      pred[j] = chave[i]\n",
        "predictionsK1 = pred-cluster_total"
      ],
      "execution_count": null,
      "outputs": []
    },
    {
      "cell_type": "code",
      "metadata": {
        "id": "L39YEjQljnCK"
      },
      "source": [
        "pred2 = kmeans.predict(x_test)"
      ],
      "execution_count": null,
      "outputs": []
    },
    {
      "cell_type": "code",
      "metadata": {
        "id": "vdiY59UdH0nl"
      },
      "source": [
        "for i in range(cluster_total):\n",
        "  for j in range(len(pred2)):\n",
        "    if pred2[j] == i:\n",
        "      pred2[j] = chave[i]\n",
        "predictionsK2 = pred2-cluster_total"
      ],
      "execution_count": null,
      "outputs": []
    },
    {
      "cell_type": "code",
      "metadata": {
        "colab": {
          "base_uri": "https://localhost:8080/"
        },
        "id": "DIGleNebjgKW",
        "outputId": "ef9d4526-7b87-4830-ddbb-bdada90f2d08"
      },
      "source": [
        "print(\"Treino\\n\")\n",
        "print(confusion_matrix(y_train,predictionsK1))\n",
        "print(classification_report(y_train,predictionsK1))\n",
        "print(\"\\nTeste\\n\")\n",
        "print(confusion_matrix(y_test,predictionsK2))\n",
        "print(classification_report(y_test,predictionsK2))"
      ],
      "execution_count": null,
      "outputs": [
        {
          "output_type": "stream",
          "text": [
            "Treino\n",
            "\n",
            "[[368  32]\n",
            " [ 93 307]]\n",
            "              precision    recall  f1-score   support\n",
            "\n",
            "           1       0.80      0.92      0.85       400\n",
            "           2       0.91      0.77      0.83       400\n",
            "\n",
            "    accuracy                           0.84       800\n",
            "   macro avg       0.85      0.84      0.84       800\n",
            "weighted avg       0.85      0.84      0.84       800\n",
            "\n",
            "\n",
            "Teste\n",
            "\n",
            "[[90 10]\n",
            " [31 69]]\n",
            "              precision    recall  f1-score   support\n",
            "\n",
            "           1       0.74      0.90      0.81       100\n",
            "           2       0.87      0.69      0.77       100\n",
            "\n",
            "    accuracy                           0.80       200\n",
            "   macro avg       0.81      0.79      0.79       200\n",
            "weighted avg       0.81      0.80      0.79       200\n",
            "\n"
          ],
          "name": "stdout"
        }
      ]
    },
    {
      "cell_type": "markdown",
      "metadata": {
        "id": "8DFWAJ02N940"
      },
      "source": [
        "### CMeans"
      ]
    },
    {
      "cell_type": "code",
      "metadata": {
        "colab": {
          "base_uri": "https://localhost:8080/"
        },
        "id": "jxVPCFL57Uaf",
        "outputId": "69163116-2b67-4f47-95ec-4db8b54df197"
      },
      "source": [
        "pip install scikit-fuzzy"
      ],
      "execution_count": null,
      "outputs": [
        {
          "output_type": "stream",
          "text": [
            "Requirement already satisfied: scikit-fuzzy in /usr/local/lib/python3.6/dist-packages (0.4.2)\n",
            "Requirement already satisfied: networkx>=1.9.0 in /usr/local/lib/python3.6/dist-packages (from scikit-fuzzy) (2.5)\n",
            "Requirement already satisfied: scipy>=0.9.0 in /usr/local/lib/python3.6/dist-packages (from scikit-fuzzy) (1.4.1)\n",
            "Requirement already satisfied: numpy>=1.6.0 in /usr/local/lib/python3.6/dist-packages (from scikit-fuzzy) (1.18.5)\n",
            "Requirement already satisfied: decorator>=4.3.0 in /usr/local/lib/python3.6/dist-packages (from networkx>=1.9.0->scikit-fuzzy) (4.4.2)\n"
          ],
          "name": "stdout"
        }
      ]
    },
    {
      "cell_type": "code",
      "metadata": {
        "id": "FtSESnN_7_B7"
      },
      "source": [
        "import skfuzzy as fuzz"
      ],
      "execution_count": null,
      "outputs": []
    },
    {
      "cell_type": "markdown",
      "metadata": {
        "id": "cEWx4YFDLOul"
      },
      "source": [
        "Parâmetros passados para calcular o CMeans:\n",
        "\n",
        "* Dados : x_train.T (transposto devido funcionamento da função desta biblioteca específica);\n",
        "* Número de clusters: clusters_total;\n",
        "* Fator de exponenciação aplicado ao parâmetro u (fuzzy c-partitioned matrix) em cada iteração : 2;\n",
        "* Erro mínimo para continuar : 0.01. Abaixo disso o algoritmo cessa funcionamento;\n",
        "* Máximos de iterações: 1000;\n",
        "\n",
        "Função retorna 7 valores, mas apenas um será usado. Em ordem, eles são:\n",
        "\n",
        "* Centro dos clusters; \n",
        "* A matriz fuzzy c-particionada final;\n",
        "* Palpite inicial da matriz fuzzy c-particionada;\n",
        "* Matriz de distâncias euclidiana;\n",
        "* Histórico da função objetivo;\n",
        "* número de iterações realizadas;\n",
        "* coeficiente de partição fuzzy final."
      ]
    },
    {
      "cell_type": "code",
      "metadata": {
        "id": "gpYQZlnD7zg5"
      },
      "source": [
        "clusters_total = 4\n",
        "cntr, _, _, _, _, _, _ = fuzz.cluster.cmeans(x_train.T, clusters_total, 2, error=0.01, maxiter=1000)"
      ],
      "execution_count": null,
      "outputs": []
    },
    {
      "cell_type": "markdown",
      "metadata": {
        "id": "d56Y0fq6MxYN"
      },
      "source": [
        "Já para a predição, os parâmetros de entrada são semelhantes. A única diferença é que em vez de passar o número de clusters desejado, passa-se os centróides encontrados anteriormente.\n",
        "\n",
        "Os valores de retorno também são os mesmos."
      ]
    },
    {
      "cell_type": "code",
      "metadata": {
        "id": "LS3dbCOu8ka8"
      },
      "source": [
        "u, u0, d, jm, p, fpc = fuzz.cluster.cmeans_predict(x_train.T, cntr, 2, error=0.01, maxiter=1000)"
      ],
      "execution_count": null,
      "outputs": []
    },
    {
      "cell_type": "markdown",
      "metadata": {
        "id": "VPVK1pzZNQxF"
      },
      "source": [
        "O valor u é um array da probabilidade de cada amostra pertencer à um determinado cluster. "
      ]
    },
    {
      "cell_type": "code",
      "metadata": {
        "colab": {
          "base_uri": "https://localhost:8080/"
        },
        "id": "WUxAJOGgNYWl",
        "outputId": "e3dbe6c8-7bd3-4f72-8383-fc52c8135a86"
      },
      "source": [
        "u.shape"
      ],
      "execution_count": null,
      "outputs": [
        {
          "output_type": "execute_result",
          "data": {
            "text/plain": [
              "(4, 800)"
            ]
          },
          "metadata": {
            "tags": []
          },
          "execution_count": 19
        }
      ]
    },
    {
      "cell_type": "markdown",
      "metadata": {
        "id": "EXBBR_HiNhgk"
      },
      "source": [
        "Portanto, para obter um valor de predição específico, será escolhido aquele cujo valor de probabilidade seja o maior dentre os calculados para aquela amostra."
      ]
    },
    {
      "cell_type": "code",
      "metadata": {
        "id": "YpnRJJxO9nID"
      },
      "source": [
        "pred = np.argmax(u, axis=0)"
      ],
      "execution_count": null,
      "outputs": []
    },
    {
      "cell_type": "code",
      "metadata": {
        "colab": {
          "base_uri": "https://localhost:8080/"
        },
        "id": "gGBx1VTN-RBy",
        "outputId": "7b8eaf1a-e2bf-4db9-9323-b08b4e10c0a1"
      },
      "source": [
        "contadores = np.zeros((2,clusters_total))\n",
        "for i in range(len(y_train)):\n",
        "  if y_train[i] == 1:\n",
        "    contadores[0][pred[i]] += 1\n",
        "  else:\n",
        "    contadores[1][pred[i]] += 1\n",
        "contadores"
      ],
      "execution_count": null,
      "outputs": [
        {
          "output_type": "execute_result",
          "data": {
            "text/plain": [
              "array([[248.,  36.,  10., 106.],\n",
              "       [ 63., 301.,  18.,  18.]])"
            ]
          },
          "metadata": {
            "tags": []
          },
          "execution_count": 21
        }
      ]
    },
    {
      "cell_type": "code",
      "metadata": {
        "id": "P_tQyrd9-RBz",
        "colab": {
          "base_uri": "https://localhost:8080/"
        },
        "outputId": "d8a642f6-26bd-423d-d8c9-850306a18bc4"
      },
      "source": [
        "chave = {}\n",
        "for i in range(clusters_total):\n",
        "  if contadores[0][i] > contadores [1][i]:\n",
        "    chave[i] = clusters_total+1\n",
        "  else:\n",
        "    chave[i] = clusters_total+2\n",
        "chave"
      ],
      "execution_count": null,
      "outputs": [
        {
          "output_type": "execute_result",
          "data": {
            "text/plain": [
              "{0: 5, 1: 6, 2: 6, 3: 5}"
            ]
          },
          "metadata": {
            "tags": []
          },
          "execution_count": 22
        }
      ]
    },
    {
      "cell_type": "code",
      "metadata": {
        "id": "k610gOY3LEQs"
      },
      "source": [
        "for i in range(clusters_total):\n",
        "  for j in range(len(pred)):\n",
        "    if pred[j] == i:\n",
        "      pred[j] = chave[i]\n",
        "predictionsC1 = pred-clusters_total"
      ],
      "execution_count": null,
      "outputs": []
    },
    {
      "cell_type": "code",
      "metadata": {
        "colab": {
          "base_uri": "https://localhost:8080/"
        },
        "id": "07g3NYXx-n0F",
        "outputId": "9903b7c5-f246-42ef-cc8e-1428ca8a5f02"
      },
      "source": [
        "print(\"Treino\\n\")\n",
        "print(confusion_matrix(y_train,predictionsC1))\n",
        "print(classification_report(y_train,predictionsC1))"
      ],
      "execution_count": null,
      "outputs": [
        {
          "output_type": "stream",
          "text": [
            "Treino\n",
            "\n",
            "[[354  46]\n",
            " [ 81 319]]\n",
            "              precision    recall  f1-score   support\n",
            "\n",
            "           1       0.81      0.89      0.85       400\n",
            "           2       0.87      0.80      0.83       400\n",
            "\n",
            "    accuracy                           0.84       800\n",
            "   macro avg       0.84      0.84      0.84       800\n",
            "weighted avg       0.84      0.84      0.84       800\n",
            "\n"
          ],
          "name": "stdout"
        }
      ]
    },
    {
      "cell_type": "code",
      "metadata": {
        "id": "9kjcJteF-RBz"
      },
      "source": [
        "u, u0, d, jm, p, fpc = fuzz.cluster.cmeans_predict(x_test.T, cntr, 2, error=0.005, maxiter=1000)\n",
        "pred = np.argmax(u, axis=0)"
      ],
      "execution_count": null,
      "outputs": []
    },
    {
      "cell_type": "code",
      "metadata": {
        "id": "ix-lNAyd-RBz"
      },
      "source": [
        "for i in range(clusters_total):\n",
        "  for j in range(len(pred)):\n",
        "    if pred[j] == i:\n",
        "      pred[j] = chave[i]\n",
        "predictionsC2 = pred-clusters_total\n"
      ],
      "execution_count": null,
      "outputs": []
    },
    {
      "cell_type": "code",
      "metadata": {
        "colab": {
          "base_uri": "https://localhost:8080/"
        },
        "id": "RM0FClv0-RBz",
        "outputId": "c5c83cad-8c5e-4015-98d3-d62ac4f3b27e"
      },
      "source": [
        "print(\"Teste\\n\")\n",
        "print(confusion_matrix(y_test,predictionsC2))\n",
        "print(classification_report(y_test,predictionsC2))"
      ],
      "execution_count": null,
      "outputs": [
        {
          "output_type": "stream",
          "text": [
            "Teste\n",
            "\n",
            "[[89 11]\n",
            " [25 75]]\n",
            "              precision    recall  f1-score   support\n",
            "\n",
            "           1       0.78      0.89      0.83       100\n",
            "           2       0.87      0.75      0.81       100\n",
            "\n",
            "    accuracy                           0.82       200\n",
            "   macro avg       0.83      0.82      0.82       200\n",
            "weighted avg       0.83      0.82      0.82       200\n",
            "\n"
          ],
          "name": "stdout"
        }
      ]
    },
    {
      "cell_type": "markdown",
      "metadata": {
        "id": "IL7T76rCN6z-"
      },
      "source": [
        "### SOM"
      ]
    },
    {
      "cell_type": "code",
      "metadata": {
        "colab": {
          "base_uri": "https://localhost:8080/"
        },
        "id": "zHDppYE5Ier3",
        "outputId": "4317f2f6-3dbb-4c1b-ac1d-2ddbddaf1688"
      },
      "source": [
        "pip install susi"
      ],
      "execution_count": null,
      "outputs": [
        {
          "output_type": "stream",
          "text": [
            "Requirement already satisfied: susi in /usr/local/lib/python3.6/dist-packages (1.1.1)\n",
            "Requirement already satisfied: numpy in /usr/local/lib/python3.6/dist-packages (from susi) (1.18.5)\n",
            "Requirement already satisfied: joblib in /usr/local/lib/python3.6/dist-packages (from susi) (0.17.0)\n",
            "Requirement already satisfied: scikit-learn in /usr/local/lib/python3.6/dist-packages (from susi) (0.22.2.post1)\n",
            "Requirement already satisfied: scipy in /usr/local/lib/python3.6/dist-packages (from susi) (1.4.1)\n",
            "Requirement already satisfied: tqdm in /usr/local/lib/python3.6/dist-packages (from susi) (4.41.1)\n"
          ],
          "name": "stdout"
        }
      ]
    },
    {
      "cell_type": "code",
      "metadata": {
        "id": "AMgB_G3YIuuW"
      },
      "source": [
        "import susi"
      ],
      "execution_count": null,
      "outputs": []
    },
    {
      "cell_type": "markdown",
      "metadata": {
        "id": "stejAcd9NvvB"
      },
      "source": [
        "Fora montado um SOM de tamanho 40x40, número de iterações de 10000 e métrica de distância euclideana."
      ]
    },
    {
      "cell_type": "code",
      "metadata": {
        "colab": {
          "base_uri": "https://localhost:8080/",
          "height": 281
        },
        "id": "YgzLNZANIjhP",
        "outputId": "9b824540-8dac-428c-f5d4-53131fc9bb34"
      },
      "source": [
        "som = susi.SOMClustering(n_rows = 40,n_columns = 40, n_iter_unsupervised= 10000,\n",
        "                         distance_metric = \"euclidean\")\n",
        "som.fit(x_train)\n",
        "umat = som.get_u_matrix()\n",
        "plt.imshow(np.squeeze(umat))"
      ],
      "execution_count": null,
      "outputs": [
        {
          "output_type": "execute_result",
          "data": {
            "text/plain": [
              "<matplotlib.image.AxesImage at 0x7f4fc82b9278>"
            ]
          },
          "metadata": {
            "tags": []
          },
          "execution_count": 30
        },
        {
          "output_type": "display_data",
          "data": {
            "image/png": "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\n",
            "text/plain": [
              "<Figure size 432x288 with 1 Axes>"
            ]
          },
          "metadata": {
            "tags": [],
            "needs_background": "light"
          }
        }
      ]
    },
    {
      "cell_type": "code",
      "metadata": {
        "colab": {
          "base_uri": "https://localhost:8080/"
        },
        "id": "n_ObM81dSfwy",
        "outputId": "e3bfcb48-0dc2-43a1-b519-8f57558a0a9f"
      },
      "source": [
        "umat.shape"
      ],
      "execution_count": null,
      "outputs": [
        {
          "output_type": "execute_result",
          "data": {
            "text/plain": [
              "(79, 79, 1)"
            ]
          },
          "metadata": {
            "tags": []
          },
          "execution_count": 31
        }
      ]
    },
    {
      "cell_type": "markdown",
      "metadata": {
        "id": "ClH2mEqBN94e"
      },
      "source": [
        "Transformar os dados usando a matriz SOM calculada"
      ]
    },
    {
      "cell_type": "code",
      "metadata": {
        "id": "0MRYRWDBJJV0"
      },
      "source": [
        "new_data_treino= som.transform(x_train)"
      ],
      "execution_count": null,
      "outputs": []
    },
    {
      "cell_type": "markdown",
      "metadata": {
        "id": "UL8KE0PrOCts"
      },
      "source": [
        "Aplicação do Elbow para determinar número ideal de clusters"
      ]
    },
    {
      "cell_type": "code",
      "metadata": {
        "id": "DG12wAH-RduV"
      },
      "source": [
        "distortions = []\n",
        "K = range(1,40)\n",
        "for k in K: \n",
        "    kmeansElbow_model = KMeans(n_clusters=k)\n",
        "    kmeansElbow_model.fit(new_data_treino)\n",
        "    distortions.append(sum(np.min(cdist(new_data_treino,kmeansElbow_model.cluster_centers_,\"euclidean\"),axis=1))/new_data_treino.shape[0])"
      ],
      "execution_count": null,
      "outputs": []
    },
    {
      "cell_type": "code",
      "metadata": {
        "colab": {
          "base_uri": "https://localhost:8080/",
          "height": 312
        },
        "id": "7kcVtnw9RduW",
        "outputId": "365aa701-8728-4232-c01a-bc5bf38652b6"
      },
      "source": [
        "#Plot distortions againt K value\n",
        "print(K)\n",
        "# checking for min of K value\n",
        "print(np.min(distortions))\n",
        "#Plotting for change in K value\n",
        "plt.plot(K,distortions,'bx-')"
      ],
      "execution_count": null,
      "outputs": [
        {
          "output_type": "stream",
          "text": [
            "range(1, 40)\n",
            "2.2102338044234964\n"
          ],
          "name": "stdout"
        },
        {
          "output_type": "execute_result",
          "data": {
            "text/plain": [
              "[<matplotlib.lines.Line2D at 0x7f4fc8274fd0>]"
            ]
          },
          "metadata": {
            "tags": []
          },
          "execution_count": 34
        },
        {
          "output_type": "display_data",
          "data": {
            "image/png": "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\n",
            "text/plain": [
              "<Figure size 432x288 with 1 Axes>"
            ]
          },
          "metadata": {
            "tags": [],
            "needs_background": "light"
          }
        }
      ]
    },
    {
      "cell_type": "markdown",
      "metadata": {
        "id": "hANLjNfAOHZ7"
      },
      "source": [
        "Número de clusters escolhidos: 8"
      ]
    },
    {
      "cell_type": "code",
      "metadata": {
        "id": "AyDhdZF9JUOk"
      },
      "source": [
        "clusters_total = 8\n",
        "kmeans = KMeans(n_clusters=clusters_total, random_state=0).fit(new_data_treino)"
      ],
      "execution_count": null,
      "outputs": []
    },
    {
      "cell_type": "code",
      "metadata": {
        "id": "kioejMnVJUOl",
        "colab": {
          "base_uri": "https://localhost:8080/"
        },
        "outputId": "d3e0cb31-0c15-47a0-a501-28b11a89d90e"
      },
      "source": [
        "pred = kmeans.predict(new_data_treino)\n",
        "\n",
        "contadores = np.zeros((2,clusters_total))\n",
        "for i in range(len(pred)):\n",
        "  if y_train[i] == 1:\n",
        "    contadores[0][pred[i]] += 1\n",
        "  else:\n",
        "    contadores[1][pred[i]] += 1\n",
        "contadores"
      ],
      "execution_count": null,
      "outputs": [
        {
          "output_type": "execute_result",
          "data": {
            "text/plain": [
              "array([[ 66.,  14.,  90.,   8.,  26.,   3.,  83., 110.],\n",
              "       [ 28., 104.,  21.,  75.,  45.,  99.,  11.,  17.]])"
            ]
          },
          "metadata": {
            "tags": []
          },
          "execution_count": 36
        }
      ]
    },
    {
      "cell_type": "code",
      "metadata": {
        "id": "Y_mgZe3AJUOl",
        "colab": {
          "base_uri": "https://localhost:8080/"
        },
        "outputId": "22ed0c6b-59d9-43fd-a91c-da8ea35e879b"
      },
      "source": [
        "chave = {}\n",
        "for i in range(clusters_total):\n",
        "  if contadores[0][i] > contadores [1][i]:\n",
        "    chave[i] = clusters_total+1\n",
        "  else:\n",
        "    chave[i] = clusters_total+2\n",
        "chave"
      ],
      "execution_count": null,
      "outputs": [
        {
          "output_type": "execute_result",
          "data": {
            "text/plain": [
              "{0: 9, 1: 10, 2: 9, 3: 10, 4: 10, 5: 10, 6: 9, 7: 9}"
            ]
          },
          "metadata": {
            "tags": []
          },
          "execution_count": 37
        }
      ]
    },
    {
      "cell_type": "code",
      "metadata": {
        "id": "PZprzjBwI12X"
      },
      "source": [
        "for i in range(clusters_total):\n",
        "  for j in range(len(pred)):\n",
        "    if pred[j] == i:\n",
        "      pred[j] = chave[i]\n",
        "predictionsS1 = pred-clusters_total\n"
      ],
      "execution_count": null,
      "outputs": []
    },
    {
      "cell_type": "code",
      "metadata": {
        "colab": {
          "base_uri": "https://localhost:8080/"
        },
        "id": "jYWYU-JbJYYS",
        "outputId": "3fa5b6cf-1566-4ba9-d3b6-7b8d31acb522"
      },
      "source": [
        "print(\"Treino\\n\")\n",
        "print(confusion_matrix(y_train,predictionsS1))\n",
        "print(classification_report(y_train,predictionsS1))"
      ],
      "execution_count": null,
      "outputs": [
        {
          "output_type": "stream",
          "text": [
            "Treino\n",
            "\n",
            "[[349  51]\n",
            " [ 77 323]]\n",
            "              precision    recall  f1-score   support\n",
            "\n",
            "           1       0.82      0.87      0.85       400\n",
            "           2       0.86      0.81      0.83       400\n",
            "\n",
            "    accuracy                           0.84       800\n",
            "   macro avg       0.84      0.84      0.84       800\n",
            "weighted avg       0.84      0.84      0.84       800\n",
            "\n"
          ],
          "name": "stdout"
        }
      ]
    },
    {
      "cell_type": "code",
      "metadata": {
        "id": "6oYO1L9cJepK"
      },
      "source": [
        "new_data_teste= som.transform(x_test)\n",
        "pred = kmeans.predict(new_data_teste)\n"
      ],
      "execution_count": null,
      "outputs": []
    },
    {
      "cell_type": "code",
      "metadata": {
        "id": "xeoCxTHqJepK"
      },
      "source": [
        "for i in range(clusters_total):\n",
        "  for j in range(len(pred)):\n",
        "    if pred[j] == i:\n",
        "      pred[j] = chave[i]\n",
        "predictionsS2 = pred-clusters_total"
      ],
      "execution_count": null,
      "outputs": []
    },
    {
      "cell_type": "code",
      "metadata": {
        "colab": {
          "base_uri": "https://localhost:8080/"
        },
        "id": "2pz6nn30JepK",
        "outputId": "74bc1c98-16f9-45d4-e1b3-2fe3a4df7dd0"
      },
      "source": [
        "print(\"Teste\\n\")\n",
        "print(confusion_matrix(y_test,predictionsS2))\n",
        "print(classification_report(y_test,predictionsS2))"
      ],
      "execution_count": null,
      "outputs": [
        {
          "output_type": "stream",
          "text": [
            "Teste\n",
            "\n",
            "[[85 15]\n",
            " [19 81]]\n",
            "              precision    recall  f1-score   support\n",
            "\n",
            "           1       0.82      0.85      0.83       100\n",
            "           2       0.84      0.81      0.83       100\n",
            "\n",
            "    accuracy                           0.83       200\n",
            "   macro avg       0.83      0.83      0.83       200\n",
            "weighted avg       0.83      0.83      0.83       200\n",
            "\n"
          ],
          "name": "stdout"
        }
      ]
    },
    {
      "cell_type": "markdown",
      "metadata": {
        "id": "WpVc5i0JXZ8_"
      },
      "source": [
        "# Comparação de resultados"
      ]
    },
    {
      "cell_type": "markdown",
      "metadata": {
        "id": "udJRqpEOXdw2"
      },
      "source": [
        "## 1) *Bagging*\n",
        "\n",
        "Parâmetros: \n",
        "\n",
        "* 21 árvores de tamanho máximo 10, critério de entropia e validação cruzada de 5 dobras;\n",
        "\n",
        "![bagging.png](data:image/png;base64,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)"
      ]
    },
    {
      "cell_type": "markdown",
      "metadata": {
        "id": "NYsWewGDXm3a"
      },
      "source": [
        "##2) MLP\n",
        "\n",
        "* Ativação RELU, otimizador SGD, camada (10,10,10), taxa de penalidade 0.1, taxa inicial de aprendizado 0.01, momento de Nesterov = 0.9;\n",
        "\n",
        "![mlp.png](data:image/png;base64,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)"
      ]
    },
    {
      "cell_type": "markdown",
      "metadata": {
        "id": "Ic0IOwD6Xrrp"
      },
      "source": [
        "## 3)SVM\n",
        "\n",
        "* Kernel Linear, parâmetro de regularização C = 4\n",
        "\n",
        "![SVM.png](data:image/png;base64,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)"
      ]
    },
    {
      "cell_type": "markdown",
      "metadata": {
        "id": "Tc7MQtmBXzOn"
      },
      "source": [
        "## 4) K-Means"
      ]
    },
    {
      "cell_type": "code",
      "metadata": {
        "colab": {
          "base_uri": "https://localhost:8080/"
        },
        "id": "Sf8eVVrcX11D",
        "outputId": "942b3702-64e0-4977-cf0c-a820457ab2b7"
      },
      "source": [
        "print(confusion_matrix(y_test,predictionsK2))\n",
        "print(classification_report(y_test,predictionsK2))"
      ],
      "execution_count": null,
      "outputs": [
        {
          "output_type": "stream",
          "text": [
            "[[90 10]\n",
            " [31 69]]\n",
            "              precision    recall  f1-score   support\n",
            "\n",
            "           1       0.74      0.90      0.81       100\n",
            "           2       0.87      0.69      0.77       100\n",
            "\n",
            "    accuracy                           0.80       200\n",
            "   macro avg       0.81      0.79      0.79       200\n",
            "weighted avg       0.81      0.80      0.79       200\n",
            "\n"
          ],
          "name": "stdout"
        }
      ]
    },
    {
      "cell_type": "markdown",
      "metadata": {
        "id": "zaeKtOKrX6U2"
      },
      "source": [
        "## 5) C-Means"
      ]
    },
    {
      "cell_type": "code",
      "metadata": {
        "colab": {
          "base_uri": "https://localhost:8080/"
        },
        "id": "PLGtP8I-X9mN",
        "outputId": "17fc13f9-75e2-4bf7-8e66-b4d574eb9a68"
      },
      "source": [
        "print(\"Teste\\n\")\n",
        "print(confusion_matrix(y_test,predictionsC2))\n",
        "print(classification_report(y_test,predictionsC2))"
      ],
      "execution_count": null,
      "outputs": [
        {
          "output_type": "stream",
          "text": [
            "Teste\n",
            "\n",
            "[[89 11]\n",
            " [25 75]]\n",
            "              precision    recall  f1-score   support\n",
            "\n",
            "           1       0.78      0.89      0.83       100\n",
            "           2       0.87      0.75      0.81       100\n",
            "\n",
            "    accuracy                           0.82       200\n",
            "   macro avg       0.83      0.82      0.82       200\n",
            "weighted avg       0.83      0.82      0.82       200\n",
            "\n"
          ],
          "name": "stdout"
        }
      ]
    },
    {
      "cell_type": "markdown",
      "metadata": {
        "id": "lF3CYtSPX_oq"
      },
      "source": [
        "## 6) SOM + K-Means"
      ]
    },
    {
      "cell_type": "code",
      "metadata": {
        "colab": {
          "base_uri": "https://localhost:8080/"
        },
        "id": "OnLUL_VVYDzr",
        "outputId": "a871bbd9-e257-491d-90fe-5b8b610424db"
      },
      "source": [
        "print(\"Teste\\n\")\n",
        "print(confusion_matrix(y_test,predictionsS2))\n",
        "print(classification_report(y_test,predictionsS2))"
      ],
      "execution_count": null,
      "outputs": [
        {
          "output_type": "stream",
          "text": [
            "Teste\n",
            "\n",
            "[[85 15]\n",
            " [19 81]]\n",
            "              precision    recall  f1-score   support\n",
            "\n",
            "           1       0.82      0.85      0.83       100\n",
            "           2       0.84      0.81      0.83       100\n",
            "\n",
            "    accuracy                           0.83       200\n",
            "   macro avg       0.83      0.83      0.83       200\n",
            "weighted avg       0.83      0.83      0.83       200\n",
            "\n"
          ],
          "name": "stdout"
        }
      ]
    },
    {
      "cell_type": "markdown",
      "metadata": {
        "id": "z5D5tZW7PFwG"
      },
      "source": [
        "### Conclusão Final\n",
        "\n",
        "* O algoritmo de Bagging apresentou o melhor resultado dentre todos os algoritmos testados, tanto na acurácia quanto na precisão; \n",
        "* MLP e SVM apresentaram resultados idênticos;\n",
        "* O algoritmo K-Means possuiu maior acurácia quando fora implementado em um Self Organizing Map;\n",
        "* O algoritmo C-Means apresentou resultados melhores que o de K-Means. Mas o K-Means sobre o SOM apresentou resultados próximos ao do C-Means. \n",
        "\n",
        "Como se trata de um problema médico em que um dos fatores mais importante é ter menos falsos negativos para Diabetes, o algoritmo mais favorável para isso é o de Bagging."
      ]
    }
  ]
}
