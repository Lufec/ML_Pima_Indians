{
  "nbformat": 4,
  "nbformat_minor": 0,
  "metadata": {
    "colab": {
      "name": "1 - Bagging.ipynb",
      "provenance": [],
      "collapsed_sections": [
        "R95V0DFgLOo7",
        "1wshVDhzN0Go",
        "rHTdUKGOLcWy",
        "zr-hRIouLnfZ",
        "LDcoXd4BMa1Y",
        "39U9-IiCpRDv",
        "6ElQ8fdzqpTJ",
        "CuBUURAspr7a",
        "ZYTZ_ZI0p3jN",
        "K0IH7aEhp7cG",
        "f2J-TltEqBCa",
        "tD7CJe1zqy5U",
        "6K2mmnVJq2ac",
        "UBYJOjvDq-KT",
        "vnvjbfsgrNHe",
        "LHDzirGt0AmY",
        "598G-Rn7AiAU",
        "Cn3ATzNdAlqn"
      ],
      "toc_visible": true,
      "include_colab_link": true
    },
    "kernelspec": {
      "display_name": "Python 3",
      "name": "python3"
    }
  },
  "cells": [
    {
      "cell_type": "markdown",
      "metadata": {
        "id": "view-in-github",
        "colab_type": "text"
      },
      "source": [
        "<a href=\"https://colab.research.google.com/github/Lufec/ML_Pima_Indians/blob/main/1_Bagging.ipynb\" target=\"_parent\"><img src=\"https://colab.research.google.com/assets/colab-badge.svg\" alt=\"Open In Colab\"/></a>"
      ]
    },
    {
      "cell_type": "markdown",
      "metadata": {
        "id": "LHs5xextZdQl"
      },
      "source": [
        "# Pima Indians Diabetes - Bagging e Árvore de Decisão"
      ]
    },
    {
      "cell_type": "code",
      "metadata": {
        "id": "zEuzDHx4QvSV",
        "colab": {
          "base_uri": "https://localhost:8080/"
        },
        "outputId": "63568c24-7da6-4100-8700-f71b897e7994"
      },
      "source": [
        "!pip install shap\n",
        "!pip install lime\n",
        "!pip install eli5"
      ],
      "execution_count": null,
      "outputs": [
        {
          "output_type": "stream",
          "text": [
            "Collecting shap\n",
            "\u001b[?25l  Downloading https://files.pythonhosted.org/packages/85/a3/c0eab9dd6a894165e2cb87504ff5b2710ac5ede3447d9138620b7341b6a2/shap-0.37.0.tar.gz (326kB)\n",
            "\r\u001b[K     |█                               | 10kB 13.9MB/s eta 0:00:01\r\u001b[K     |██                              | 20kB 17.2MB/s eta 0:00:01\r\u001b[K     |███                             | 30kB 20.2MB/s eta 0:00:01\r\u001b[K     |████                            | 40kB 18.0MB/s eta 0:00:01\r\u001b[K     |█████                           | 51kB 12.1MB/s eta 0:00:01\r\u001b[K     |██████                          | 61kB 13.5MB/s eta 0:00:01\r\u001b[K     |███████                         | 71kB 12.4MB/s eta 0:00:01\r\u001b[K     |████████                        | 81kB 11.8MB/s eta 0:00:01\r\u001b[K     |█████████                       | 92kB 10.7MB/s eta 0:00:01\r\u001b[K     |██████████                      | 102kB 11.4MB/s eta 0:00:01\r\u001b[K     |███████████                     | 112kB 11.4MB/s eta 0:00:01\r\u001b[K     |████████████                    | 122kB 11.4MB/s eta 0:00:01\r\u001b[K     |█████████████                   | 133kB 11.4MB/s eta 0:00:01\r\u001b[K     |██████████████                  | 143kB 11.4MB/s eta 0:00:01\r\u001b[K     |███████████████                 | 153kB 11.4MB/s eta 0:00:01\r\u001b[K     |████████████████                | 163kB 11.4MB/s eta 0:00:01\r\u001b[K     |█████████████████               | 174kB 11.4MB/s eta 0:00:01\r\u001b[K     |██████████████████              | 184kB 11.4MB/s eta 0:00:01\r\u001b[K     |███████████████████             | 194kB 11.4MB/s eta 0:00:01\r\u001b[K     |████████████████████            | 204kB 11.4MB/s eta 0:00:01\r\u001b[K     |█████████████████████           | 215kB 11.4MB/s eta 0:00:01\r\u001b[K     |██████████████████████          | 225kB 11.4MB/s eta 0:00:01\r\u001b[K     |███████████████████████         | 235kB 11.4MB/s eta 0:00:01\r\u001b[K     |████████████████████████        | 245kB 11.4MB/s eta 0:00:01\r\u001b[K     |█████████████████████████       | 256kB 11.4MB/s eta 0:00:01\r\u001b[K     |██████████████████████████      | 266kB 11.4MB/s eta 0:00:01\r\u001b[K     |███████████████████████████     | 276kB 11.4MB/s eta 0:00:01\r\u001b[K     |████████████████████████████    | 286kB 11.4MB/s eta 0:00:01\r\u001b[K     |█████████████████████████████   | 296kB 11.4MB/s eta 0:00:01\r\u001b[K     |██████████████████████████████  | 307kB 11.4MB/s eta 0:00:01\r\u001b[K     |███████████████████████████████ | 317kB 11.4MB/s eta 0:00:01\r\u001b[K     |████████████████████████████████| 327kB 11.4MB/s \n",
            "\u001b[?25hRequirement already satisfied: numpy in /usr/local/lib/python3.6/dist-packages (from shap) (1.18.5)\n",
            "Requirement already satisfied: scipy in /usr/local/lib/python3.6/dist-packages (from shap) (1.4.1)\n",
            "Requirement already satisfied: scikit-learn in /usr/local/lib/python3.6/dist-packages (from shap) (0.22.2.post1)\n",
            "Requirement already satisfied: pandas in /usr/local/lib/python3.6/dist-packages (from shap) (1.1.4)\n",
            "Requirement already satisfied: tqdm>4.25.0 in /usr/local/lib/python3.6/dist-packages (from shap) (4.41.1)\n",
            "Collecting slicer==0.0.3\n",
            "  Downloading https://files.pythonhosted.org/packages/02/a6/c708c5a0f338e99cfbcb6288b88794525548e4fc1b8457feec2c552a81a4/slicer-0.0.3-py3-none-any.whl\n",
            "Requirement already satisfied: numba in /usr/local/lib/python3.6/dist-packages (from shap) (0.48.0)\n",
            "Requirement already satisfied: joblib>=0.11 in /usr/local/lib/python3.6/dist-packages (from scikit-learn->shap) (0.17.0)\n",
            "Requirement already satisfied: python-dateutil>=2.7.3 in /usr/local/lib/python3.6/dist-packages (from pandas->shap) (2.8.1)\n",
            "Requirement already satisfied: pytz>=2017.2 in /usr/local/lib/python3.6/dist-packages (from pandas->shap) (2018.9)\n",
            "Requirement already satisfied: llvmlite<0.32.0,>=0.31.0dev0 in /usr/local/lib/python3.6/dist-packages (from numba->shap) (0.31.0)\n",
            "Requirement already satisfied: setuptools in /usr/local/lib/python3.6/dist-packages (from numba->shap) (50.3.2)\n",
            "Requirement already satisfied: six>=1.5 in /usr/local/lib/python3.6/dist-packages (from python-dateutil>=2.7.3->pandas->shap) (1.15.0)\n",
            "Building wheels for collected packages: shap\n",
            "  Building wheel for shap (setup.py) ... \u001b[?25l\u001b[?25hdone\n",
            "  Created wheel for shap: filename=shap-0.37.0-cp36-cp36m-linux_x86_64.whl size=463904 sha256=f5abeef5119116195602ed4167a9589b51ceb448696452d0356cae13ca3cf130\n",
            "  Stored in directory: /root/.cache/pip/wheels/df/ad/b0/aa7815ec68850d66551ef618095eccb962c8f6022f1d3dd989\n",
            "Successfully built shap\n",
            "Installing collected packages: slicer, shap\n",
            "Successfully installed shap-0.37.0 slicer-0.0.3\n",
            "Collecting lime\n",
            "\u001b[?25l  Downloading https://files.pythonhosted.org/packages/f5/86/91a13127d83d793ecb50eb75e716f76e6eda809b6803c5a4ff462339789e/lime-0.2.0.1.tar.gz (275kB)\n",
            "\u001b[K     |████████████████████████████████| 276kB 12.2MB/s \n",
            "\u001b[?25hRequirement already satisfied: matplotlib in /usr/local/lib/python3.6/dist-packages (from lime) (3.2.2)\n",
            "Requirement already satisfied: numpy in /usr/local/lib/python3.6/dist-packages (from lime) (1.18.5)\n",
            "Requirement already satisfied: scipy in /usr/local/lib/python3.6/dist-packages (from lime) (1.4.1)\n",
            "Requirement already satisfied: tqdm in /usr/local/lib/python3.6/dist-packages (from lime) (4.41.1)\n",
            "Requirement already satisfied: scikit-learn>=0.18 in /usr/local/lib/python3.6/dist-packages (from lime) (0.22.2.post1)\n",
            "Requirement already satisfied: scikit-image>=0.12 in /usr/local/lib/python3.6/dist-packages (from lime) (0.16.2)\n",
            "Requirement already satisfied: cycler>=0.10 in /usr/local/lib/python3.6/dist-packages (from matplotlib->lime) (0.10.0)\n",
            "Requirement already satisfied: kiwisolver>=1.0.1 in /usr/local/lib/python3.6/dist-packages (from matplotlib->lime) (1.3.1)\n",
            "Requirement already satisfied: python-dateutil>=2.1 in /usr/local/lib/python3.6/dist-packages (from matplotlib->lime) (2.8.1)\n",
            "Requirement already satisfied: pyparsing!=2.0.4,!=2.1.2,!=2.1.6,>=2.0.1 in /usr/local/lib/python3.6/dist-packages (from matplotlib->lime) (2.4.7)\n",
            "Requirement already satisfied: joblib>=0.11 in /usr/local/lib/python3.6/dist-packages (from scikit-learn>=0.18->lime) (0.17.0)\n",
            "Requirement already satisfied: PyWavelets>=0.4.0 in /usr/local/lib/python3.6/dist-packages (from scikit-image>=0.12->lime) (1.1.1)\n",
            "Requirement already satisfied: pillow>=4.3.0 in /usr/local/lib/python3.6/dist-packages (from scikit-image>=0.12->lime) (7.0.0)\n",
            "Requirement already satisfied: imageio>=2.3.0 in /usr/local/lib/python3.6/dist-packages (from scikit-image>=0.12->lime) (2.4.1)\n",
            "Requirement already satisfied: networkx>=2.0 in /usr/local/lib/python3.6/dist-packages (from scikit-image>=0.12->lime) (2.5)\n",
            "Requirement already satisfied: six in /usr/local/lib/python3.6/dist-packages (from cycler>=0.10->matplotlib->lime) (1.15.0)\n",
            "Requirement already satisfied: decorator>=4.3.0 in /usr/local/lib/python3.6/dist-packages (from networkx>=2.0->scikit-image>=0.12->lime) (4.4.2)\n",
            "Building wheels for collected packages: lime\n",
            "  Building wheel for lime (setup.py) ... \u001b[?25l\u001b[?25hdone\n",
            "  Created wheel for lime: filename=lime-0.2.0.1-cp36-none-any.whl size=283845 sha256=ccd332a114f1f9d7febcfbf7208a8b679baafd75d3293be5dcc2a5071941570e\n",
            "  Stored in directory: /root/.cache/pip/wheels/4c/4f/a5/0bc765457bd41378bf3ce8d17d7495369d6e7ca3b712c60c89\n",
            "Successfully built lime\n",
            "\u001b[31mERROR: Operation cancelled by user\u001b[0m\n",
            "Collecting eli5\n",
            "\u001b[?25l  Downloading https://files.pythonhosted.org/packages/97/2f/c85c7d8f8548e460829971785347e14e45fa5c6617da374711dec8cb38cc/eli5-0.10.1-py2.py3-none-any.whl (105kB)\n",
            "\u001b[K     |████████████████████████████████| 112kB 13.0MB/s \n",
            "\u001b[?25hRequirement already satisfied: tabulate>=0.7.7 in /usr/local/lib/python3.6/dist-packages (from eli5) (0.8.7)\n",
            "Requirement already satisfied: six in /usr/local/lib/python3.6/dist-packages (from eli5) (1.15.0)\n",
            "Requirement already satisfied: numpy>=1.9.0 in /usr/local/lib/python3.6/dist-packages (from eli5) (1.18.5)\n",
            "Requirement already satisfied: attrs>16.0.0 in /usr/local/lib/python3.6/dist-packages (from eli5) (20.2.0)\n",
            "Requirement already satisfied: scipy in /usr/local/lib/python3.6/dist-packages (from eli5) (1.4.1)\n",
            "Requirement already satisfied: graphviz in /usr/local/lib/python3.6/dist-packages (from eli5) (0.10.1)\n",
            "Requirement already satisfied: scikit-learn>=0.18 in /usr/local/lib/python3.6/dist-packages (from eli5) (0.22.2.post1)\n",
            "Requirement already satisfied: jinja2 in /usr/local/lib/python3.6/dist-packages (from eli5) (2.11.2)\n",
            "Requirement already satisfied: joblib>=0.11 in /usr/local/lib/python3.6/dist-packages (from scikit-learn>=0.18->eli5) (0.17.0)\n",
            "Requirement already satisfied: MarkupSafe>=0.23 in /usr/local/lib/python3.6/dist-packages (from jinja2->eli5) (1.1.1)\n",
            "Installing collected packages: eli5\n",
            "Successfully installed eli5-0.10.1\n"
          ],
          "name": "stdout"
        }
      ]
    },
    {
      "cell_type": "code",
      "metadata": {
        "id": "Pwt3VciCiVFl"
      },
      "source": [
        "from random import randint\n",
        "import numpy as np\n",
        "import matplotlib.pyplot as plt\n",
        "import seaborn as sns\n",
        "from scipy import stats\n",
        "from scipy.stats import kurtosis\n",
        "from scipy.stats import skew\n",
        "from scipy.stats import probplot\n",
        "from scipy.stats import shapiro\n",
        "from collections import Counter\n",
        "from itertools import groupby\n",
        "import pylab\n",
        "import pandas as pd\n",
        "from sklearn import preprocessing\n",
        "from sklearn.impute import SimpleImputer\n"
      ],
      "execution_count": null,
      "outputs": []
    },
    {
      "cell_type": "code",
      "metadata": {
        "id": "2PrcuiYh8Fvu"
      },
      "source": [
        "np.set_printoptions(precision = 5,edgeitems = 11, linewidth = 200, suppress = True)"
      ],
      "execution_count": null,
      "outputs": []
    },
    {
      "cell_type": "markdown",
      "metadata": {
        "id": "R95V0DFgLOo7"
      },
      "source": [
        "### Visualizando dados do dataset Pima"
      ]
    },
    {
      "cell_type": "code",
      "metadata": {
        "id": "ETaGYnj6ip2H"
      },
      "source": [
        "df = pd.read_excel(\"/content/Diabetes_Original.xlsx\", usecols = \"A:I\", na_filter = False)\n",
        "df_copy = df\n",
        "df.head(5)"
      ],
      "execution_count": null,
      "outputs": []
    },
    {
      "cell_type": "markdown",
      "metadata": {
        "id": "1wshVDhzN0Go"
      },
      "source": [
        "## Analisando e balanceando o nosso target"
      ]
    },
    {
      "cell_type": "code",
      "metadata": {
        "id": "HpWR-E0iM56q"
      },
      "source": [
        "## 500 não diabéticos e 268 diabéticos\n",
        "Counter(df['Diagnóstico'])"
      ],
      "execution_count": null,
      "outputs": []
    },
    {
      "cell_type": "code",
      "metadata": {
        "id": "2DZgwsoZN_bU"
      },
      "source": [
        "n_diabeticos_bolean = df['Diagnóstico']==1\n",
        "n_diabeticos = df[n_diabeticos_bolean]"
      ],
      "execution_count": null,
      "outputs": []
    },
    {
      "cell_type": "code",
      "metadata": {
        "id": "cEhcq7C_RHSY"
      },
      "source": [
        "#indexs = np.random.choice(range(1,500),268)\n",
        "#new_n_diabeticos = n_diabeticos.iloc[indexs]"
      ],
      "execution_count": null,
      "outputs": []
    },
    {
      "cell_type": "code",
      "metadata": {
        "id": "GPR05AC9odAs"
      },
      "source": [
        "#df = pd.concat([new_n_diabeticos, df[df['Diagnóstico']==2]])"
      ],
      "execution_count": null,
      "outputs": []
    },
    {
      "cell_type": "markdown",
      "metadata": {
        "id": "rHTdUKGOLcWy"
      },
      "source": [
        "## Informações do dataset"
      ]
    },
    {
      "cell_type": "code",
      "metadata": {
        "id": "LrwoL7ILkDYA"
      },
      "source": [
        "df.info()"
      ],
      "execution_count": null,
      "outputs": []
    },
    {
      "cell_type": "markdown",
      "metadata": {
        "id": "zr-hRIouLnfZ"
      },
      "source": [
        "## Busca por 0's no dataset"
      ]
    },
    {
      "cell_type": "code",
      "metadata": {
        "id": "hQhZMVFZkaw7"
      },
      "source": [
        "(df == 0).astype(int).sum()"
      ],
      "execution_count": null,
      "outputs": []
    },
    {
      "cell_type": "markdown",
      "metadata": {
        "id": "yl4I7uY76N-T"
      },
      "source": [
        "Variáveis em que valor 0 não apresentam sentido clínico: Glicose, Pressão, Pele, Insulina, Massa Corpórea.\n",
        "Resolução: substituir os 0's pelas medianas de cada atributo"
      ]
    },
    {
      "cell_type": "code",
      "metadata": {
        "id": "xwYm7qcV5GWF"
      },
      "source": [
        "imp_mean = SimpleImputer(missing_values=0, strategy='median')\n",
        "features = ['Glicose','Pressão','Massa Corpórea','Insulina','Pele']   #Ainda não tô achando bom usar insulina  e pele aqui\n",
        "imp_mean.fit(df[features]) \n",
        "df[features] = imp_mean.transform(df[features])\n",
        "df"
      ],
      "execution_count": null,
      "outputs": []
    },
    {
      "cell_type": "markdown",
      "metadata": {
        "id": "70b5IFVtDGhR"
      },
      "source": [
        "Para os casos de Insulina e pele...."
      ]
    },
    {
      "cell_type": "code",
      "metadata": {
        "id": "TSRkoqehAZYs"
      },
      "source": [
        "#'Pele',\"Insulina\"....\n",
        "df_p0 = df[df[\"Pele\"] == 0]\n",
        "df_p0c1 = df_p0[df_p0[\"Diagnóstico\"] == 1]\n",
        "df_p0c2 = df_p0[df_p0[\"Diagnóstico\"] == 2]\n",
        "df_p1 = df[df[\"Pele\"] != 0]\n",
        "df_p1c1 = df_p1[df_p1[\"Diagnóstico\"] == 1]\n",
        "df_p1c2 = df_p1[df_p1[\"Diagnóstico\"] == 2]\n",
        "df_i0 = df[df[\"Insulina\"] == 0]\n",
        "df_i0c1 = df_i0[df_i0[\"Diagnóstico\"] == 1]\n",
        "df_i0c2 = df_i0[df_i0[\"Diagnóstico\"] == 2]\n",
        "df_i1 = df[df[\"Insulina\"] != 0]\n",
        "df_i1c1 = df_i1[df_i1[\"Diagnóstico\"] == 1]\n",
        "df_i1c2 = df_i1[df_i1[\"Diagnóstico\"] == 2]\n"
      ],
      "execution_count": null,
      "outputs": []
    },
    {
      "cell_type": "markdown",
      "metadata": {
        "id": "LDcoXd4BMa1Y"
      },
      "source": [
        "## Separar Dados em atributos e classe, separar as labels de ambos"
      ]
    },
    {
      "cell_type": "code",
      "metadata": {
        "id": "E0Y-Jr_Fjgd4"
      },
      "source": [
        "df_var = df.drop(columns = \"Diagnóstico\")\n",
        "df_cls = df['Diagnóstico']\n",
        "features = list(df_var)\n",
        "classe = ['Diagnóstico']"
      ],
      "execution_count": null,
      "outputs": []
    },
    {
      "cell_type": "code",
      "metadata": {
        "id": "fI9vr_gRLllf"
      },
      "source": [
        "Counter(df_cls)"
      ],
      "execution_count": null,
      "outputs": []
    },
    {
      "cell_type": "markdown",
      "metadata": {
        "id": "39U9-IiCpRDv"
      },
      "source": [
        "## Box-plot das variáveis"
      ]
    },
    {
      "cell_type": "code",
      "metadata": {
        "id": "J8dE6FJVkYXr"
      },
      "source": [
        "df_var.boxplot()"
      ],
      "execution_count": null,
      "outputs": []
    },
    {
      "cell_type": "markdown",
      "metadata": {
        "id": "6ElQ8fdzqpTJ"
      },
      "source": [
        "## Ocorrência de outlies por variável"
      ]
    },
    {
      "cell_type": "code",
      "metadata": {
        "id": "7qJxGWQH1EOb"
      },
      "source": [
        "for column in df:\n",
        "  print(column)\n",
        "  z = np.abs(stats.zscore(df[column]))\n",
        "  print(np.where(z > 3))"
      ],
      "execution_count": null,
      "outputs": []
    },
    {
      "cell_type": "markdown",
      "metadata": {
        "id": "CuBUURAspr7a"
      },
      "source": [
        "## Normalizando as variáveis"
      ]
    },
    {
      "cell_type": "code",
      "metadata": {
        "id": "ywkXBpLO1avd"
      },
      "source": [
        "df_var_normz = (df_var-df_var.mean())/df_var.std()"
      ],
      "execution_count": null,
      "outputs": []
    },
    {
      "cell_type": "code",
      "metadata": {
        "id": "pt273kgI2C2Q"
      },
      "source": [
        "#z_scores = stats.zscore(df_var_normz)\n",
        "#abs_z_scores = np.abs(z_scores)\n",
        "#filtered_entries = (abs_z_scores < 3). all(axis=1)\n",
        "#df_var_normz = df_var_normz[filtered_entries].reset_index(drop = True)\n",
        "#df_cls = df_cls[filtered_entries].reset_index(drop = True)"
      ],
      "execution_count": null,
      "outputs": []
    },
    {
      "cell_type": "markdown",
      "metadata": {
        "id": "ZYTZ_ZI0p3jN"
      },
      "source": [
        "## Box-plot das variáveis normalizadas"
      ]
    },
    {
      "cell_type": "code",
      "metadata": {
        "id": "wycfv3_L2OFj"
      },
      "source": [
        "df_var_normz.boxplot()"
      ],
      "execution_count": null,
      "outputs": []
    },
    {
      "cell_type": "markdown",
      "metadata": {
        "id": "K0IH7aEhp7cG"
      },
      "source": [
        "## Distribuição das variáveis normalizadas"
      ]
    },
    {
      "cell_type": "code",
      "metadata": {
        "id": "khrlsoEz3ZU2"
      },
      "source": [
        "plt.figure(figsize=(15,15))\n",
        "df_var_normz.hist(bins = 50)\n",
        "plt.show"
      ],
      "execution_count": null,
      "outputs": []
    },
    {
      "cell_type": "markdown",
      "metadata": {
        "id": "f2J-TltEqBCa"
      },
      "source": [
        "## Q-Q plot das variáveis normalizadas"
      ]
    },
    {
      "cell_type": "code",
      "metadata": {
        "id": "GKIqns7v3jfr"
      },
      "source": [
        "fig = plt.figure(figsize = (15,10))\n",
        "\n",
        "ax1 = plt.subplot(241)\n",
        "res = stats.probplot(df_var_normz[\"Gravidez\"],plot = plt)\n",
        "ax2 = plt.subplot(242)\n",
        "res = stats.probplot(df_var_normz[\"Glicose\"],plot = plt)\n",
        "ax3 = plt.subplot(243)\n",
        "res = stats.probplot(df_var_normz[\"Pressão\"],plot = plt)\n",
        "ax4 = plt.subplot(244)\n",
        "res = stats.probplot(df_var_normz[\"Pele\"],plot = plt)\n",
        "ax5 = plt.subplot(245)\n",
        "res = stats.probplot(df_var_normz[\"Insulina\"],plot = plt)\n",
        "ax6 = plt.subplot(246)\n",
        "res = stats.probplot(df_var_normz[\"Massa Corpórea\"],plot = plt)\n",
        "ax7 = plt.subplot(247)\n",
        "res = stats.probplot(df_var_normz[\"Genealogia\"],plot = plt)\n",
        "ax8 = plt.subplot(248)\n",
        "res = stats.probplot(df_var_normz[\"Idade\"],plot = plt)\n",
        "\t\t\t\t\t\t\t\n",
        "plt.show()"
      ],
      "execution_count": null,
      "outputs": []
    },
    {
      "cell_type": "markdown",
      "metadata": {
        "id": "tD7CJe1zqy5U"
      },
      "source": [
        "## Teste de Normalidade"
      ]
    },
    {
      "cell_type": "code",
      "metadata": {
        "id": "f9znrdaG4etu"
      },
      "source": [
        "# normality test\n",
        "for column in df_var_normz:\n",
        "  stat, p = shapiro(df_var_normz[column])\n",
        "  print(column)\n",
        "  print('Statistics=%.3f, p=%.3f' % (stat, p))\n",
        "  # interpret\n",
        "  alpha = 0.05\n",
        "  if p > alpha:\n",
        "\t  print('Variavel aparenta ser Gaussiana (Nao rejeita H0)')\n",
        "  else:\n",
        "\t  print('Variavel não aparenta ser Gaussiana (Rejeita H0)')"
      ],
      "execution_count": null,
      "outputs": []
    },
    {
      "cell_type": "markdown",
      "metadata": {
        "id": "6K2mmnVJq2ac"
      },
      "source": [
        "## Análise de Correlação"
      ]
    },
    {
      "cell_type": "code",
      "metadata": {
        "id": "u3em5HjL4v0N"
      },
      "source": [
        "corr=np.corrcoef(df_var_normz,rowvar = False)\n",
        "corr"
      ],
      "execution_count": null,
      "outputs": []
    },
    {
      "cell_type": "code",
      "metadata": {
        "id": "37LrS3WIaH82"
      },
      "source": [
        "import seaborn as sns\n",
        "sns.heatmap(corr)"
      ],
      "execution_count": null,
      "outputs": []
    },
    {
      "cell_type": "markdown",
      "metadata": {
        "id": "UBYJOjvDq-KT"
      },
      "source": [
        "## Análise de Redução de dimensionalidade"
      ]
    },
    {
      "cell_type": "code",
      "metadata": {
        "id": "XdME6j6Y8JIg"
      },
      "source": [
        "df_aval, df_avet = np.linalg.eig(corr)\n",
        "print(\"Autovetores: \\n\",df_avet)\n",
        "print(\"Autovalores: \\n\",df_aval)"
      ],
      "execution_count": null,
      "outputs": []
    },
    {
      "cell_type": "code",
      "metadata": {
        "id": "KaCGEun184CE"
      },
      "source": [
        "percent = df_aval/sum(df_aval) # d)\n",
        "print(percent)"
      ],
      "execution_count": null,
      "outputs": []
    },
    {
      "cell_type": "code",
      "metadata": {
        "id": "mnLoPbx188o4"
      },
      "source": [
        "#df_norm_decorr = np.dot(df_var_normz,df_avet).T"
      ],
      "execution_count": null,
      "outputs": []
    },
    {
      "cell_type": "code",
      "metadata": {
        "id": "uOZPpGVBA3pX"
      },
      "source": [
        "#df_decorr_cls = pd.DataFrame(df_norm_decorr.T)\n",
        "#df_cls = pd.DataFrame(df_cls)\n",
        "#df_decorr_cls = pd.concat([df_decorr_cls,df_cls],axis = 1).reset_index(drop = True)"
      ],
      "execution_count": null,
      "outputs": []
    },
    {
      "cell_type": "code",
      "metadata": {
        "id": "rkJ4ui8irZ4S"
      },
      "source": [
        "#df_decorr_cls.shape"
      ],
      "execution_count": null,
      "outputs": []
    },
    {
      "cell_type": "code",
      "metadata": {
        "id": "3iSUHupCZsbE"
      },
      "source": [
        "#precisa 232 diabeticos\n",
        "df_diab = df[df['Diagnóstico'] == 2].drop(columns = 'Diagnóstico')\n",
        "df_dmax = df_diab.max()\n",
        "df_dmin = df_diab.min()\n",
        "df_dm = df_diab.mean()\n",
        "df_dstd = df_diab.std()\n",
        "cov = df_diab.cov()\n",
        "cov"
      ],
      "execution_count": null,
      "outputs": []
    },
    {
      "cell_type": "code",
      "metadata": {
        "id": "bpUMqrGMZyB1"
      },
      "source": [
        "#from scipy.stats import norm\n",
        "#from scipy.linalg import cholesky\n",
        "#num_samples = 232\n",
        "#x = norm.rvs(size=(8, num_samples))"
      ],
      "execution_count": null,
      "outputs": []
    },
    {
      "cell_type": "code",
      "metadata": {
        "id": "Xe479_ngZybf"
      },
      "source": [
        "#c = cholesky(cov, lower = True)\n",
        "#evals, evecs = np.linalg.eig(cov)\n",
        " #Construct c, so c*c^T = r.\n",
        "#c = np.dot(evecs, np.diag(np.sqrt(evals)))\n",
        "#y = np.dot(c, x)\n",
        "#np.set_printoptions(suppress=True)\n",
        "#np.cov(y)"
      ],
      "execution_count": null,
      "outputs": []
    },
    {
      "cell_type": "code",
      "metadata": {
        "id": "2IyF7mP-aKfl"
      },
      "source": [
        "import scipy.stats\n",
        "def my_distribution(min_val, max_val, mean, std):\n",
        "    scale = max_val - min_val\n",
        "    location = min_val\n",
        "    # Mean and standard deviation of the unscaled beta distribution\n",
        "    unscaled_mean = (mean - min_val) / scale\n",
        "    unscaled_var = (std / scale) ** 2\n",
        "    # Computation of alpha and beta can be derived from mean and variance formulas\n",
        "    t = unscaled_mean / (1 - unscaled_mean)\n",
        "    beta = ((t / unscaled_var) - (t * t) - (2 * t) - 1) / ((t * t * t) + (3 * t * t) + (3 * t) + 1)\n",
        "    alpha = beta * t\n",
        "    # Not all parameters may produce a valid distribution\n",
        "    if alpha <= 0 or beta <= 0:\n",
        "        raise ValueError('Cannot create distribution for the given parameters.')\n",
        "    # Make scaled beta distribution with computed parameters\n",
        "    return scipy.stats.beta(alpha, beta, scale=scale, loc=location)"
      ],
      "execution_count": null,
      "outputs": []
    },
    {
      "cell_type": "code",
      "metadata": {
        "id": "shPCy-wNbELs"
      },
      "source": [
        "my_dist = []\n",
        "\n",
        "for i in range(8):\n",
        "  \n",
        "  my_dist.append(my_distribution(df_dmin[i], df_dmax[i], df_dm[i], df_dstd[i]))\n"
      ],
      "execution_count": null,
      "outputs": []
    },
    {
      "cell_type": "code",
      "metadata": {
        "id": "BMfS5fIBc2iH"
      },
      "source": [
        "sample = []\n",
        "\n",
        "for i in range(8):\n",
        "  sample.append(my_dist[i].rvs(size=232).T)\n",
        "\n",
        "new_data = pd.DataFrame(sample).transpose()\n",
        "new_data = new_data.rename(columns = {0:\"Gravidez\", 1:\"Glicose\",2:\"Pressão\",\n",
        "                                      3:\"Pele\",4:\"Insulina\",5:\"Massa Corpórea\",6:\"Genealogia\",7:\"Idade\"})\n",
        "new_data.cov()"
      ],
      "execution_count": null,
      "outputs": []
    },
    {
      "cell_type": "code",
      "metadata": {
        "id": "lbkGulZ4T21C"
      },
      "source": [
        "new_data = (new_data-new_data.mean())/new_data.std()"
      ],
      "execution_count": null,
      "outputs": []
    },
    {
      "cell_type": "code",
      "metadata": {
        "id": "_YklxpVSUFYc"
      },
      "source": [
        "new_data.insert(8,column = \"Diagnóstico\", value = 2)"
      ],
      "execution_count": null,
      "outputs": []
    },
    {
      "cell_type": "code",
      "metadata": {
        "id": "AaJh5XxPfyxp"
      },
      "source": [
        "df_cls = pd.DataFrame(df_cls)\n",
        "df_normz = pd.concat([df_var_normz,df_cls],axis = 1).reset_index(drop = True)\n",
        "df_normz = pd.concat([df_normz,new_data]).reset_index(drop = True)\n",
        "df_normz"
      ],
      "execution_count": null,
      "outputs": []
    },
    {
      "cell_type": "code",
      "metadata": {
        "id": "yKS8NP24U91Z"
      },
      "source": [
        "df_normz[\"Diagnóstico\"].value_counts()"
      ],
      "execution_count": null,
      "outputs": []
    },
    {
      "cell_type": "code",
      "metadata": {
        "id": "1JlmGnW-d47W"
      },
      "source": [
        "sns.heatmap(df_normz.drop(columns = \"Diagnóstico\").corr())"
      ],
      "execution_count": null,
      "outputs": []
    },
    {
      "cell_type": "code",
      "metadata": {
        "id": "gusVztb5eES4"
      },
      "source": [
        "df.corr()"
      ],
      "execution_count": null,
      "outputs": []
    },
    {
      "cell_type": "code",
      "metadata": {
        "id": "LoAGx5f7ebkj"
      },
      "source": [
        "df_normz.corr()"
      ],
      "execution_count": null,
      "outputs": []
    },
    {
      "cell_type": "markdown",
      "metadata": {
        "id": "vnvjbfsgrNHe"
      },
      "source": [
        "## Divisão dos dados de treino e teste (80% e 20%)"
      ]
    },
    {
      "cell_type": "code",
      "metadata": {
        "id": "lJAWxXdp4gQa"
      },
      "source": [
        "from sklearn.datasets import make_blobs\n",
        "from sklearn.model_selection import train_test_split\n",
        "\n",
        "X_train, X_test, y_train, y_test = train_test_split(df_normz.drop(columns = \"Diagnóstico\"), df_normz[\"Diagnóstico\"], test_size=0.2)\n",
        "print(X_train.shape, X_test.shape, y_train.shape, y_test.shape)\n"
      ],
      "execution_count": null,
      "outputs": []
    },
    {
      "cell_type": "markdown",
      "metadata": {
        "id": "lw7ZbhPRrHiu"
      },
      "source": [
        "## Exportando dados para futuras análises"
      ]
    },
    {
      "cell_type": "code",
      "metadata": {
        "id": "CQ12_39mBNWC"
      },
      "source": [
        "df_treino = X_train.copy()\n",
        "df_treino.insert(8,column = \"Diagnóstico\",value = y_train)\n",
        "df_treino = df_treino.reset_index(drop = True)\n",
        "df_treino.to_csv(r'dfTreino20.csv', index = False, header=True)"
      ],
      "execution_count": null,
      "outputs": []
    },
    {
      "cell_type": "code",
      "metadata": {
        "id": "VTNShWkhIG1k"
      },
      "source": [
        "df_teste = X_test.copy()\n",
        "df_teste.insert(8,column = \"Diagnóstico\",value = y_test)\n",
        "df_teste=df_teste.reset_index(drop = True)\n",
        "df_teste.to_csv(r'dfTeste20.csv', index = False, header=True)"
      ],
      "execution_count": null,
      "outputs": []
    },
    {
      "cell_type": "code",
      "metadata": {
        "id": "rN8-hiJ9Y3nF"
      },
      "source": [
        "X_train"
      ],
      "execution_count": null,
      "outputs": []
    },
    {
      "cell_type": "code",
      "metadata": {
        "id": "6CHLRklhqmT_"
      },
      "source": [
        "dfTreino = pd.read_csv(\"/content/dfTreino20.csv\")\n",
        "dfTeste = pd.read_csv(\"/content/dfTeste20.csv\")"
      ],
      "execution_count": null,
      "outputs": []
    },
    {
      "cell_type": "code",
      "metadata": {
        "id": "zdkjXHmurNKM",
        "colab": {
          "base_uri": "https://localhost:8080/"
        },
        "outputId": "f0986dd0-8b83-4fe0-e649-19b6fe3a2cf5"
      },
      "source": [
        "dfTreino[\"Diagnóstico\"].value_counts()"
      ],
      "execution_count": null,
      "outputs": [
        {
          "output_type": "execute_result",
          "data": {
            "text/plain": [
              "2    400\n",
              "1    400\n",
              "Name: Diagnóstico, dtype: int64"
            ]
          },
          "metadata": {
            "tags": []
          },
          "execution_count": 39
        }
      ]
    },
    {
      "cell_type": "code",
      "metadata": {
        "id": "T8VIzHZHrF_b"
      },
      "source": [
        "x_train = dfTreino.drop(columns = \"Diagnóstico\")\n",
        "y_train = dfTreino['Diagnóstico']\n",
        "x_test =  dfTeste.drop(columns = \"Diagnóstico\")\n",
        "y_test =  dfTeste['Diagnóstico']"
      ],
      "execution_count": null,
      "outputs": []
    },
    {
      "cell_type": "markdown",
      "metadata": {
        "id": "_UzqmqVfriBN"
      },
      "source": [
        "## Utilizando o algoritmo de árvore de decisão do scikit-learn"
      ]
    },
    {
      "cell_type": "code",
      "metadata": {
        "id": "l-wFf2539COd",
        "colab": {
          "base_uri": "https://localhost:8080/"
        },
        "outputId": "bb4f8027-ff0f-4e0a-9820-c5164911be4d"
      },
      "source": [
        "from sklearn import tree\n",
        "from sklearn.metrics import confusion_matrix,accuracy_score,average_precision_score\n",
        "classf = tree.DecisionTreeClassifier(criterion = 'entropy', max_depth = 9)\n",
        "classf = classf.fit(x_train, y_train)\n",
        "classf"
      ],
      "execution_count": null,
      "outputs": [
        {
          "output_type": "execute_result",
          "data": {
            "text/plain": [
              "DecisionTreeClassifier(ccp_alpha=0.0, class_weight=None, criterion='entropy',\n",
              "                       max_depth=9, max_features=None, max_leaf_nodes=None,\n",
              "                       min_impurity_decrease=0.0, min_impurity_split=None,\n",
              "                       min_samples_leaf=1, min_samples_split=2,\n",
              "                       min_weight_fraction_leaf=0.0, presort='deprecated',\n",
              "                       random_state=None, splitter='best')"
            ]
          },
          "metadata": {
            "tags": []
          },
          "execution_count": 41
        }
      ]
    },
    {
      "cell_type": "markdown",
      "metadata": {
        "id": "479cewe9rxJH"
      },
      "source": [
        "### Matriz de confusão do modelo nos dados de teste"
      ]
    },
    {
      "cell_type": "code",
      "metadata": {
        "id": "lVJJGp6OHRX9",
        "colab": {
          "base_uri": "https://localhost:8080/"
        },
        "outputId": "47b095d3-ffbf-40ed-cff5-c804f513bcae"
      },
      "source": [
        "result = classf.predict(x_test)\n",
        "confusion_matrix(y_test, result)"
      ],
      "execution_count": null,
      "outputs": [
        {
          "output_type": "execute_result",
          "data": {
            "text/plain": [
              "array([[84, 16],\n",
              "       [26, 74]])"
            ]
          },
          "metadata": {
            "tags": []
          },
          "execution_count": 42
        }
      ]
    },
    {
      "cell_type": "markdown",
      "metadata": {
        "id": "O2nCvs_px4wv"
      },
      "source": [
        "### Acurácia para os dados de teste"
      ]
    },
    {
      "cell_type": "code",
      "metadata": {
        "id": "koN0zjp8HUii",
        "colab": {
          "base_uri": "https://localhost:8080/"
        },
        "outputId": "e9676824-4b05-42e5-b82f-e4fd2386e70f"
      },
      "source": [
        "accuracy_score(y_test,result)"
      ],
      "execution_count": null,
      "outputs": [
        {
          "output_type": "execute_result",
          "data": {
            "text/plain": [
              "0.79"
            ]
          },
          "metadata": {
            "tags": []
          },
          "execution_count": 43
        }
      ]
    },
    {
      "cell_type": "markdown",
      "metadata": {
        "id": "WBkjk3Pqx_6I"
      },
      "source": [
        "### Média de precisão para os dados de teste"
      ]
    },
    {
      "cell_type": "code",
      "metadata": {
        "id": "BQR9ZL1HH9tt",
        "colab": {
          "base_uri": "https://localhost:8080/"
        },
        "outputId": "79928130-81c9-46ea-9eb2-f88896e7d3ba"
      },
      "source": [
        "average_precision_score(y_test,result)"
      ],
      "execution_count": null,
      "outputs": [
        {
          "output_type": "execute_result",
          "data": {
            "text/plain": [
              "0.44641304347826083"
            ]
          },
          "metadata": {
            "tags": []
          },
          "execution_count": 31
        }
      ]
    },
    {
      "cell_type": "markdown",
      "metadata": {
        "id": "vj1TLt2Dy1Ui"
      },
      "source": [
        "## Gráfico de importância (SHAP) - Treino\n",
        " 0   Gravidez        \n",
        " 1   Glicose         \n",
        " 2   Pressão          \n",
        " 3   Pele            \n",
        " 4   Insulina         \n",
        " 5   Massa Corpórea  \n",
        " 6   Genealogia      \n",
        " 7   Idade           \n",
        " 8   Diagnóstico"
      ]
    },
    {
      "cell_type": "code",
      "metadata": {
        "id": "eVvXBXqAPl1g"
      },
      "source": [
        "import shap\n",
        "shap.initjs()\n",
        "shap_values = shap.TreeExplainer(classf).shap_values(x_train)\n",
        "shap.summary_plot(shap_values, x_train)"
      ],
      "execution_count": null,
      "outputs": []
    },
    {
      "cell_type": "markdown",
      "metadata": {
        "id": "HGME37INz4Mz"
      },
      "source": [
        "## Gráfico de importância (SHAP) - Teste\n",
        " 0   Gravidez        \n",
        " 1   Glicose         \n",
        " 2   Pressão          \n",
        " 3   Pele            \n",
        " 4   Insulina         \n",
        " 5   Massa Corpórea  \n",
        " 6   Genealogia      \n",
        " 7   Idade           \n",
        " 8   Diagnóstico"
      ]
    },
    {
      "cell_type": "code",
      "metadata": {
        "id": "EOGTlNHCNNym"
      },
      "source": [
        "shap.initjs()\n",
        "shap_values = shap.TreeExplainer(classf).shap_values(x_test)\n",
        "shap.summary_plot (shap_values, x_test)"
      ],
      "execution_count": null,
      "outputs": []
    },
    {
      "cell_type": "markdown",
      "metadata": {
        "id": "LHDzirGt0AmY"
      },
      "source": [
        "## Gráfico de árvore do modelo"
      ]
    },
    {
      "cell_type": "code",
      "metadata": {
        "id": "5kKzVDRpHCOC"
      },
      "source": [
        "import pydotplus\n",
        "import matplotlib.pyplot as plt\n",
        "import matplotlib.image as pltimg\n",
        "import graphviz "
      ],
      "execution_count": null,
      "outputs": []
    },
    {
      "cell_type": "code",
      "metadata": {
        "id": "EYL_pEm32Zi5"
      },
      "source": [
        ""
      ],
      "execution_count": null,
      "outputs": []
    },
    {
      "cell_type": "code",
      "metadata": {
        "id": "G5grdeb1HGYY"
      },
      "source": [
        "features = ['Gravidez','Glicose','Pressão','Pele','Insulina','Massa Corpórea','Genealogia','Idade']\n",
        "data = tree.export_graphviz(classf, out_file=None, feature_names=features, class_names=[\"1\",\"2\"])\n",
        "graph = pydotplus.graph_from_dot_data(data)\n",
        "graph.write_png('mydecisiontree.png')\n",
        "\n",
        "fig, ax = plt.subplots(figsize=(15, 15))\n",
        "img=pltimg.imread('mydecisiontree.png')\n",
        "ax.imgplot = plt.imshow(img)\n",
        "plt.show()"
      ],
      "execution_count": null,
      "outputs": []
    },
    {
      "cell_type": "markdown",
      "metadata": {
        "id": "lvxKD9H90Hmg"
      },
      "source": [
        "## Testando o modelo com bagging"
      ]
    },
    {
      "cell_type": "code",
      "metadata": {
        "id": "akpJKovKIaBM"
      },
      "source": [
        "from sklearn.model_selection import cross_val_score\n",
        "from sklearn.model_selection import RepeatedStratifiedKFold\n",
        "from sklearn.ensemble import BaggingClassifier"
      ],
      "execution_count": null,
      "outputs": []
    },
    {
      "cell_type": "markdown",
      "metadata": {
        "id": "LJuabSwUADmO"
      },
      "source": [
        "### Scores do modelo de treinamento com bagging"
      ]
    },
    {
      "cell_type": "code",
      "metadata": {
        "id": "qzjhgptVIaZ1",
        "colab": {
          "base_uri": "https://localhost:8080/"
        },
        "outputId": "138f64ba-4081-4af3-c44d-8e4735fd4491"
      },
      "source": [
        "dstree = tree.DecisionTreeClassifier(criterion = 'entropy', max_depth = 10)\n",
        "model = BaggingClassifier(dstree, n_estimators=21)\n",
        "cv = RepeatedStratifiedKFold(n_splits=5, n_repeats=3, random_state=1)\n",
        "n_scores = cross_val_score(model, x_train, y_train, scoring='accuracy', cv=cv, n_jobs=-1, error_score='raise')\n",
        "print(n_scores)\n",
        "print('Média e desvio padrão dos Scores de validação: %.3f (%.3f)' % (np.mean(n_scores), np.std(n_scores)))"
      ],
      "execution_count": null,
      "outputs": [
        {
          "output_type": "stream",
          "text": [
            "[0.925   0.9125  0.9     0.93125 0.90625 0.90625 0.8875  0.90625 0.86875 0.9625  0.89375 0.875   0.90625 0.9125  0.90625]\n",
            "Média e desvio padrão dos Scores de validação: 0.907 (0.022)\n"
          ],
          "name": "stdout"
        }
      ]
    },
    {
      "cell_type": "code",
      "metadata": {
        "id": "M9HWNirU_sFw"
      },
      "source": [
        "model = model.fit(x_train, y_train.values.ravel())"
      ],
      "execution_count": null,
      "outputs": []
    },
    {
      "cell_type": "code",
      "metadata": {
        "id": "ctaiQrWOJmj1"
      },
      "source": [
        "resultBag = model.predict(x_test)"
      ],
      "execution_count": null,
      "outputs": []
    },
    {
      "cell_type": "markdown",
      "metadata": {
        "id": "YS8wymxOAOmx"
      },
      "source": [
        "### Matriz de confusão do modelo nos dados de teste"
      ]
    },
    {
      "cell_type": "code",
      "metadata": {
        "id": "EYvuv0yhJ23D",
        "colab": {
          "base_uri": "https://localhost:8080/"
        },
        "outputId": "2a66fbab-6362-429d-ca83-9a6bf3843155"
      },
      "source": [
        "confusion_matrix(y_test, resultBag)"
      ],
      "execution_count": null,
      "outputs": [
        {
          "output_type": "execute_result",
          "data": {
            "text/plain": [
              "array([[85, 15],\n",
              "       [14, 86]])"
            ]
          },
          "metadata": {
            "tags": []
          },
          "execution_count": 68
        }
      ]
    },
    {
      "cell_type": "code",
      "metadata": {
        "id": "EpR4TD6LW8L4"
      },
      "source": [
        "\n",
        "from sklearn.metrics import classification_report, confusion_matrix, accuracy_score"
      ],
      "execution_count": null,
      "outputs": []
    },
    {
      "cell_type": "code",
      "metadata": {
        "id": "I3s2XvbJW3yG",
        "colab": {
          "base_uri": "https://localhost:8080/"
        },
        "outputId": "ba709fef-0013-474f-d770-4313786d4297"
      },
      "source": [
        "print(confusion_matrix(y_test,resultBag))\n",
        "print(classification_report(y_test,resultBag))"
      ],
      "execution_count": null,
      "outputs": [
        {
          "output_type": "stream",
          "text": [
            "[[85 15]\n",
            " [14 86]]\n",
            "              precision    recall  f1-score   support\n",
            "\n",
            "           1       0.86      0.85      0.85       100\n",
            "           2       0.85      0.86      0.86       100\n",
            "\n",
            "    accuracy                           0.85       200\n",
            "   macro avg       0.86      0.85      0.85       200\n",
            "weighted avg       0.86      0.85      0.85       200\n",
            "\n"
          ],
          "name": "stdout"
        }
      ]
    },
    {
      "cell_type": "markdown",
      "metadata": {
        "id": "jAg08wBzAW0S"
      },
      "source": [
        "### Acurácia para os dados de teste"
      ]
    },
    {
      "cell_type": "code",
      "metadata": {
        "id": "W5B_qVAeJ-gP",
        "colab": {
          "base_uri": "https://localhost:8080/"
        },
        "outputId": "43785ba6-3945-4b65-bb70-259c8badd698"
      },
      "source": [
        "accuracy_score(y_test, resultBag)"
      ],
      "execution_count": null,
      "outputs": [
        {
          "output_type": "execute_result",
          "data": {
            "text/plain": [
              "0.855"
            ]
          },
          "metadata": {
            "tags": []
          },
          "execution_count": 69
        }
      ]
    },
    {
      "cell_type": "code",
      "metadata": {
        "id": "jE7xP3KqWc-m"
      },
      "source": [
        ""
      ],
      "execution_count": null,
      "outputs": []
    },
    {
      "cell_type": "markdown",
      "metadata": {
        "id": "OabRMECnAa2P"
      },
      "source": [
        "### Média de precisão para os dados de teste"
      ]
    },
    {
      "cell_type": "code",
      "metadata": {
        "id": "C4bNzuNbKDQy",
        "colab": {
          "base_uri": "https://localhost:8080/"
        },
        "outputId": "50cb5bd4-1d0a-4f68-a1df-3eb67f893a6d"
      },
      "source": [
        "average_precision_score(y_test, resultBag)"
      ],
      "execution_count": null,
      "outputs": [
        {
          "output_type": "execute_result",
          "data": {
            "text/plain": [
              "0.4496"
            ]
          },
          "metadata": {
            "tags": []
          },
          "execution_count": 42
        }
      ]
    },
    {
      "cell_type": "markdown",
      "metadata": {
        "id": "598G-Rn7AiAU"
      },
      "source": [
        "# Conclusão"
      ]
    },
    {
      "cell_type": "markdown",
      "metadata": {
        "id": "Cn3ATzNdAlqn"
      },
      "source": [
        "## Introdução\n",
        "Neste notebook foi utilizado para classificação de pessoas com diabetes ou não o algoritmo de árvore de decisão. \n",
        "\n",
        "### Os dados\n",
        "Os dados utilizados foram os do dataset pima que no decorrer das análises foi manipulado para uma redução de dimensionalidade tanto pelo descorrelacionamento quanto pelo balanceamento das variáveis de resposta, além disso os dados foram normalizados com finalidade de melhor desempenho do modelo.\n",
        "\n",
        "### O modelo\n",
        "Foi testado o algoritmo de árvore de decisão e também foi testada a possibilidade de bagging no modelo, em ambos os casos o modelo teve comportamento igual chegando a uma acurácia de 83%, tendo como as três variáveis mais importantes para predição: Gravidez, Idade e Glicose segundo o indice de SHAP.\n",
        "\n",
        "Embora a acurácia seja boa, por haver baixo volume de dados o modelo não tem uma média de precisão muito grande, chegando a aproximadamente 45%.\n",
        "\n"
      ]
    }
  ]
}